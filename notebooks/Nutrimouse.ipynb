{
 "cells": [
  {
   "cell_type": "markdown",
   "metadata": {},
   "source": [
    "# Using Pyrea with Nutrimouse Data Utilising Hierarchical and Spectral Clustering\n",
    "\n",
    "In this notebok we demonstrate Pyrea's usage by performing hierarchical and spectral clustering on the Nutrimouse[<sup>1</sup>](#fn1) dataset.\n",
    "\n",
    "We will do this using the Parea_1 structure, a structure that is included as a helper function in the Pyrea software package.\n",
    "\n",
    "## Imports\n",
    "This notebook requires Pyrea, mvlearn, Numpy, and sklearn (for computing metrics). Let's import the relevant items here:"
   ]
  },
  {
   "cell_type": "code",
   "execution_count": 14,
   "metadata": {
    "tags": []
   },
   "outputs": [],
   "source": [
    "import pyrea\n",
    "import numpy as np\n",
    "from mvlearn.datasets import load_nutrimouse\n",
    "from mvlearn.cluster import MultiviewCoRegSpectralClustering, MultiviewSphericalKMeans, MultiviewKMeans\n",
    "\n",
    "from sklearn.metrics import normalized_mutual_info_score as nmi_score\n",
    "from sklearn.metrics import adjusted_mutual_info_score as ami_score"
   ]
  },
  {
   "cell_type": "markdown",
   "metadata": {},
   "source": [
    "## Load Data\n",
    "\n",
    "Load the Nutrimouse data using mvlearn:[<sup>2</sup>](#fn2)"
   ]
  },
  {
   "cell_type": "code",
   "execution_count": 2,
   "metadata": {
    "tags": []
   },
   "outputs": [],
   "source": [
    "nutrimouse_dataset = load_nutrimouse()\n",
    "data = [nutrimouse_dataset['gene'], nutrimouse_dataset['lipid']]\n",
    "\n",
    "y_all = np.vstack((nutrimouse_dataset['genotype'], nutrimouse_dataset['diet'])).T\n",
    "y = y_all[:,0]"
   ]
  },
  {
   "cell_type": "markdown",
   "metadata": {},
   "source": [
    "Note: the variable `y` contains the ground truths that we will use for evaluation later in the notebook. The ground truths are not used during training."
   ]
  },
  {
   "cell_type": "markdown",
   "metadata": {},
   "source": [
    "Preview the shape of the data:"
   ]
  },
  {
   "cell_type": "code",
   "execution_count": 3,
   "metadata": {
    "tags": []
   },
   "outputs": [
    {
     "name": "stdout",
     "output_type": "stream",
     "text": [
      "Number of views: 2\n",
      "Shape of view 1: 40 x 120\n",
      "Shape of view 2: 40 x 21\n"
     ]
    }
   ],
   "source": [
    "print(f'Number of views: {len(data)}')\n",
    "print(f'Shape of view 1: {np.shape(data[0])[0]} x {np.shape(data[0])[1]}')\n",
    "print(f'Shape of view 2: {np.shape(data[1])[0]} x {np.shape(data[1])[1]}')"
   ]
  },
  {
   "cell_type": "markdown",
   "metadata": {},
   "source": [
    "As can be seen there are 2 views. View 1 has 120 features for each of the 40 mice, while view 2 has 21 features for each of the 40 mice. As this is a multi-view dataset, the 40 samples refer to the same 40 mice in both datasets.\n",
    "\n",
    "We will use Parea_1 to perform hierarchical clustering and spectral clustering on this dataset, and use Pyrea's built-in genetic algorithm functionality to find the best hyperparameters to use for this data."
   ]
  },
  {
   "cell_type": "markdown",
   "metadata": {},
   "source": [
    "# Parea_1"
   ]
  },
  {
   "cell_type": "markdown",
   "metadata": {},
   "source": [
    "## Hierarchical Clustering\n",
    "\n",
    "In this section, we will execute the Parea_1 structure using both hierarchical clustering and spectral clustering. We will optimise this structure's parameters using a genetic algorithm.\n",
    "\n",
    "First we use hierarchical clustering, and use Pyrea's genetic algorithm helper function for this: `parea_1_genetic()`.\n",
    "\n",
    "We execute the genetic algorithm as follows, which will learn the best parameters to use for the clustering:"
   ]
  },
  {
   "cell_type": "code",
   "execution_count": 69,
   "metadata": {
    "tags": []
   },
   "outputs": [
    {
     "name": "stdout",
     "output_type": "stream",
     "text": [
      "Silhouette score: 0.55\n",
      "Silhouette score: 0.6802083333333334\n",
      "Silhouette score: 0.623624835309618\n",
      "Silhouette score: 0.6488505747126437\n",
      "Silhouette score: 0.7221413255360624\n",
      "Silhouette score: 0.5850405546834118\n",
      "Silhouette score: 0.5891369047619047\n",
      "Silhouette score: 0.6802083333333334\n",
      "Silhouette score: 0.4802196275946276\n",
      "Silhouette score: 0.7201178451178453\n",
      "gen\tnevals\tavg     \tstd      \tmin    \tmax     \n",
      "0  \t10    \t0.627955\t0.0738461\t0.48022\t0.722141\n",
      "Silhouette score: 0.6802083333333334\n",
      "Silhouette score: 0.7201178451178453\n",
      "Silhouette score: 0.7221413255360624\n",
      "Silhouette score: 0.623624835309618\n",
      "Silhouette score: 0.7046678406875776\n",
      "Silhouette score: 0.7020833333333334\n",
      "Silhouette score: 0.7201178451178453\n",
      "Silhouette score: 0.6802083333333334\n",
      "1  \t8     \t0.685833\t0.0442218\t0.585041\t0.722141\n",
      "Silhouette score: 0.6064814814814815\n",
      "Silhouette score: 0.84375\n",
      "Silhouette score: 0.6802083333333334\n",
      "Silhouette score: 0.7046678406875776\n",
      "2  \t4     \t0.705998\t0.0561702\t0.606481\t0.84375 \n",
      "Silhouette score: 0.7201178451178453\n",
      "Silhouette score: 0.84375\n",
      "Silhouette score: 0.6802083333333334\n",
      "Silhouette score: 0.84375\n",
      "Silhouette score: 0.84375\n",
      "Silhouette score: 0.6802083333333334\n",
      "Silhouette score: 0.7221413255360624\n",
      "Silhouette score: 0.821875\n",
      "Silhouette score: 0.7221413255360624\n",
      "Silhouette score: 0.84375\n",
      "3  \t10    \t0.772169\t0.0689887\t0.680208\t0.84375 \n",
      "Silhouette score: 0.84375\n",
      "Silhouette score: 0.84375\n",
      "Silhouette score: 0.84375\n",
      "Silhouette score: 0.821875\n",
      "Silhouette score: 0.84375\n",
      "Silhouette score: 0.84375\n",
      "Silhouette score: 0.821875\n",
      "Silhouette score: 0.84375\n",
      "Silhouette score: 0.84375\n",
      "4  \t9     \t0.839375\t0.00875  \t0.821875\t0.84375 \n",
      "Silhouette score: 0.84375\n",
      "Silhouette score: 0.84375\n",
      "Silhouette score: 0.84375\n",
      "Silhouette score: 0.84375\n",
      "Silhouette score: 0.698252688172043\n",
      "Silhouette score: 0.84375\n",
      "5  \t6     \t0.8292  \t0.0436492\t0.698253\t0.84375 \n",
      "Silhouette score: 0.84375\n",
      "Silhouette score: 0.84375\n",
      "Silhouette score: 0.84375\n",
      "Silhouette score: 0.84375\n",
      "Silhouette score: 0.84375\n",
      "Silhouette score: 0.84375\n",
      "Silhouette score: 0.84375\n",
      "Silhouette score: 0.84375\n",
      "6  \t8     \t0.84375 \t0        \t0.84375 \t0.84375 \n",
      "Silhouette score: 0.84375\n",
      "Silhouette score: 0.84375\n",
      "Silhouette score: 0.84375\n",
      "Silhouette score: 0.84375\n",
      "Silhouette score: 0.84375\n",
      "Silhouette score: 0.84375\n",
      "Silhouette score: 0.84375\n",
      "Silhouette score: 0.84375\n",
      "7  \t8     \t0.84375 \t0        \t0.84375 \t0.84375 \n",
      "Silhouette score: 0.84375\n",
      "Silhouette score: 0.84375\n",
      "Silhouette score: 0.7178160919540229\n",
      "Silhouette score: 0.84375\n",
      "Silhouette score: 0.84375\n",
      "Silhouette score: 0.84375\n",
      "Silhouette score: 0.84375\n",
      "Silhouette score: 0.84375\n",
      "Silhouette score: 0.84375\n",
      "Silhouette score: 0.84375\n",
      "8  \t10    \t0.831157\t0.0377802\t0.717816\t0.84375 \n",
      "Silhouette score: 0.84375\n",
      "Silhouette score: 0.84375\n",
      "Silhouette score: 0.84375\n",
      "Silhouette score: 0.84375\n",
      "Silhouette score: 0.84375\n",
      "Silhouette score: 0.84375\n",
      "9  \t6     \t0.84375 \t0        \t0.84375 \t0.84375 \n",
      "Silhouette score: 0.84375\n",
      "Silhouette score: 0.84375\n",
      "Silhouette score: 0.84375\n",
      "Silhouette score: 0.84375\n",
      "Silhouette score: 0.84375\n",
      "Silhouette score: 0.84375\n",
      "Silhouette score: 0.84375\n",
      "Silhouette score: 0.84375\n",
      "10 \t8     \t0.84375 \t0        \t0.84375 \t0.84375 \n",
      "\n",
      "Summary:\n",
      "gen\tnevals\tavg     \tstd      \tmin     \tmax     \n",
      "0  \t10    \t0.627955\t0.0738461\t0.48022 \t0.722141\n",
      "1  \t8     \t0.685833\t0.0442218\t0.585041\t0.722141\n",
      "2  \t4     \t0.705998\t0.0561702\t0.606481\t0.84375 \n",
      "3  \t10    \t0.772169\t0.0689887\t0.680208\t0.84375 \n",
      "4  \t9     \t0.839375\t0.00875  \t0.821875\t0.84375 \n",
      "5  \t6     \t0.8292  \t0.0436492\t0.698253\t0.84375 \n",
      "6  \t8     \t0.84375 \t0        \t0.84375 \t0.84375 \n",
      "7  \t8     \t0.84375 \t0        \t0.84375 \t0.84375 \n",
      "8  \t10    \t0.831157\t0.0377802\t0.717816\t0.84375 \n",
      "9  \t6     \t0.84375 \t0        \t0.84375 \t0.84375 \n",
      "10 \t8     \t0.84375 \t0        \t0.84375 \t0.84375 \n"
     ]
    }
   ],
   "source": [
    "params_hierarchical = pyrea.parea_1_genetic(data, k_min=2, k_max=5, k_final=2, n_generations=10, n_population=10)"
   ]
  },
  {
   "cell_type": "markdown",
   "metadata": {},
   "source": [
    "Once this is complete `params_hierarchical` contains the optimal parameters for this data, which we can then use to call the `parea_1` function with the optimal parameters that we have learned:"
   ]
  },
  {
   "cell_type": "code",
   "execution_count": 70,
   "metadata": {
    "tags": []
   },
   "outputs": [
    {
     "name": "stdout",
     "output_type": "stream",
     "text": [
      "[1 1 1 1 0 0 1 1 1 0 1 1 1 1 1 1 0 1 0 1 0 0 0 0 0 0 0 0 0 0 0 0 0 0 0 0 0\n",
      " 0 0 0]\n"
     ]
    }
   ],
   "source": [
    "labels_hierarchical = pyrea.parea_1(data, *params_hierarchical)\n",
    "\n",
    "print(labels_hierarchical)"
   ]
  },
  {
   "cell_type": "markdown",
   "metadata": {},
   "source": [
    "Compare this to the true labels:"
   ]
  },
  {
   "cell_type": "code",
   "execution_count": 57,
   "metadata": {
    "tags": []
   },
   "outputs": [
    {
     "name": "stdout",
     "output_type": "stream",
     "text": [
      "[1 1 1 1 1 1 1 1 1 1 1 1 1 1 1 1 1 1 1 1 0 0 0 0 0 0 0 0 0 0 0 0 0 0 0 0 0\n",
      " 0 0 0]\n"
     ]
    }
   ],
   "source": [
    "print(y)"
   ]
  },
  {
   "cell_type": "markdown",
   "metadata": {},
   "source": [
    "We can also print the parameters to see which were selected by the genetic algorithm:"
   ]
  },
  {
   "cell_type": "code",
   "execution_count": 58,
   "metadata": {
    "tags": []
   },
   "outputs": [
    {
     "data": {
      "text/plain": [
       "['hierarchical',\n",
       " 'ward2',\n",
       " 2,\n",
       " 'hierarchical',\n",
       " 'ward',\n",
       " 2,\n",
       " 'hierarchical',\n",
       " 'centroid',\n",
       " 2,\n",
       " 'hierarchical',\n",
       " 'complete',\n",
       " 2,\n",
       " 'disagreement']"
      ]
     },
     "execution_count": 58,
     "metadata": {},
     "output_type": "execute_result"
    }
   ],
   "source": [
    "params_hierarchical"
   ]
  },
  {
   "cell_type": "markdown",
   "metadata": {},
   "source": [
    "In the [Evaluation](#Evaluation) section below, we will use the Normalized Mutual Information (NMI) score to judge how well it performed, and compare it to some specialised multi-view algorithms provided by mvlearn."
   ]
  },
  {
   "cell_type": "markdown",
   "metadata": {},
   "source": [
    "## Spectral Clustering\n",
    "\n",
    "In this section we will again use the Parea_1 structure, but using spectral clustering.\n",
    "\n",
    "This is performed in almost the same way:"
   ]
  },
  {
   "cell_type": "code",
   "execution_count": 40,
   "metadata": {
    "tags": []
   },
   "outputs": [
    {
     "name": "stdout",
     "output_type": "stream",
     "text": [
      "Silhouette score: 0.45367647058823535\n",
      "Silhouette score: 0.30891873278236914\n",
      "Silhouette score: 0.41153447933019366\n",
      "Silhouette score: 0.25472972972972974\n",
      "Silhouette score: 0.7732254678716288\n",
      "Silhouette score: 0.28855043345019765\n",
      "Silhouette score: 0.38894880321678194\n",
      "Silhouette score: 0.8402388542273137\n",
      "Silhouette score: 0.7521623496762256\n",
      "Silhouette score: 0.5664062592891516\n",
      "gen\tnevals\tavg     \tstd     \tmin    \tmax     \n",
      "0  \t10    \t0.503839\t0.205414\t0.25473\t0.840239\n",
      "Silhouette score: 0.7715909090909091\n",
      "Silhouette score: 0.6631399853068858\n",
      "Silhouette score: 0.5753395004625347\n",
      "Silhouette score: 0.8887608695652176\n",
      "Silhouette score: 0.6887356355067148\n",
      "Silhouette score: 0.5149516463562169\n",
      "Silhouette score: 0.7883522727272727\n",
      "Silhouette score: 0.8568979933110368\n",
      "Silhouette score: 0.6189460516356908\n",
      "1  \t9     \t0.682039\t0.137283\t0.453676\t0.888761\n",
      "Silhouette score: 0.7142241379310346\n",
      "Silhouette score: 0.45435703334344824\n",
      "Silhouette score: 0.4781618665401342\n",
      "Silhouette score: 0.6974738070835633\n",
      "Silhouette score: 0.7201333641689793\n",
      "Silhouette score: 0.6503018320489911\n",
      "Silhouette score: 0.5195885671341708\n",
      "Silhouette score: 0.6598519888991674\n",
      "2  \t8     \t0.607218\t0.0981397\t0.454357\t0.720133\n",
      "Silhouette score: 0.6448066519735524\n",
      "Silhouette score: 0.710344827586207\n",
      "Silhouette score: 0.7492884316214863\n",
      "Silhouette score: 0.7205989087498845\n",
      "Silhouette score: 0.7652058279370952\n",
      "Silhouette score: 0.5422979797979798\n",
      "Silhouette score: 0.7061437361124344\n",
      "Silhouette score: 0.6368682015375291\n",
      "3  \t8     \t0.683617\t0.0615086\t0.542298\t0.765206\n",
      "\n",
      "Summary:\n",
      "gen\tnevals\tavg     \tstd      \tmin     \tmax     \n",
      "0  \t10    \t0.503839\t0.205414 \t0.25473 \t0.840239\n",
      "1  \t9     \t0.682039\t0.137283 \t0.453676\t0.888761\n",
      "2  \t8     \t0.607218\t0.0981397\t0.454357\t0.720133\n",
      "3  \t8     \t0.683617\t0.0615086\t0.542298\t0.765206\n"
     ]
    }
   ],
   "source": [
    "params_spectral = pyrea.parea_1_genetic_spectral(data, k_min=2, k_max=8, k_final=2, n_neighbors_min=10, n_neighbors_max=15, n_population=10, n_generations=3)"
   ]
  },
  {
   "cell_type": "markdown",
   "metadata": {},
   "source": [
    "Again this returns our optimal parameters, which we then use to perform the clustering using the `parea_1_spectral` function:"
   ]
  },
  {
   "cell_type": "code",
   "execution_count": 45,
   "metadata": {
    "tags": []
   },
   "outputs": [
    {
     "name": "stdout",
     "output_type": "stream",
     "text": [
      "[0 0 0 0 0 1 0 0 0 1 0 0 0 0 0 0 0 0 1 0 1 1 1 1 1 1 1 1 1 1 1 1 1 1 1 1 1\n",
      " 1 1 1]\n"
     ]
    }
   ],
   "source": [
    "labels_spectral = pyrea.parea_1_spectral(data, *params_spectral, k_final=2)\n",
    "\n",
    "print(labels_spectral)"
   ]
  },
  {
   "cell_type": "markdown",
   "metadata": {},
   "source": [
    "Compare these to the true labels:"
   ]
  },
  {
   "cell_type": "code",
   "execution_count": 46,
   "metadata": {
    "tags": []
   },
   "outputs": [
    {
     "name": "stdout",
     "output_type": "stream",
     "text": [
      "[1 1 1 1 1 1 1 1 1 1 1 1 1 1 1 1 1 1 1 1 0 0 0 0 0 0 0 0 0 0 0 0 0 0 0 0 0\n",
      " 0 0 0]\n"
     ]
    }
   ],
   "source": [
    "print(y)"
   ]
  },
  {
   "cell_type": "markdown",
   "metadata": {},
   "source": [
    "We can also print the parameters to see which were selected by the genetic algorithm:"
   ]
  },
  {
   "cell_type": "code",
   "execution_count": 47,
   "metadata": {
    "tags": []
   },
   "outputs": [
    {
     "data": {
      "text/plain": [
       "['spectral',\n",
       " 15,\n",
       " 4,\n",
       " 'spectral',\n",
       " 12,\n",
       " 4,\n",
       " 'spectral',\n",
       " 15,\n",
       " 2,\n",
       " 'spectral',\n",
       " 12,\n",
       " 2,\n",
       " 'agreement']"
      ]
     },
     "execution_count": 47,
     "metadata": {},
     "output_type": "execute_result"
    }
   ],
   "source": [
    "params_spectral"
   ]
  },
  {
   "cell_type": "markdown",
   "metadata": {},
   "source": [
    "Now we perform a proper evaluation of the predicted in the [Evaluation](#Evaluation) section below."
   ]
  },
  {
   "cell_type": "markdown",
   "metadata": {},
   "source": [
    "# Evaluation\n",
    "\n",
    "## Parea_1\n",
    "\n",
    "We compare our results from Parea_1 to several specially designed algorithms for multi-view, using mvlearn. We use the Normalized Mutual Information (NMI) score for this evaluation.\n",
    "\n",
    "In this section we will evaluate Parea_1 using hierarchical clustering and then using spectral clustering.\n",
    "\n",
    "First we compute the NMI score for hierarchical clustering (using ther ground truths stored in `y` from above):"
   ]
  },
  {
   "cell_type": "code",
   "execution_count": 72,
   "metadata": {
    "tags": []
   },
   "outputs": [
    {
     "data": {
      "text/plain": [
       "0.5615896365639194"
      ]
     },
     "execution_count": 72,
     "metadata": {},
     "output_type": "execute_result"
    }
   ],
   "source": [
    "s_nmi_hierarchical = nmi_score(labels_hierarchical, y)\n",
    "s_nmi_hierarchical"
   ]
  },
  {
   "cell_type": "markdown",
   "metadata": {},
   "source": [
    "And now for spectral clustering:"
   ]
  },
  {
   "cell_type": "code",
   "execution_count": 48,
   "metadata": {
    "tags": []
   },
   "outputs": [
    {
     "data": {
      "text/plain": [
       "0.6843628400956292"
      ]
     },
     "execution_count": 48,
     "metadata": {},
     "output_type": "execute_result"
    }
   ],
   "source": [
    "s_nmi_spectral = nmi_score(labels_spectral, y)\n",
    "s_nmi_spectral"
   ]
  },
  {
   "cell_type": "markdown",
   "metadata": {},
   "source": [
    "## mvlearn\n",
    "\n",
    "Here we use mvlearn's specialised multi-view clustering algorithms on the same data and also compute the NMI scores. \n",
    "\n",
    "First, Multiview Coregularized Spectral Clustering:"
   ]
  },
  {
   "cell_type": "code",
   "execution_count": 49,
   "metadata": {
    "tags": []
   },
   "outputs": [
    {
     "data": {
      "text/plain": [
       "0.4591921489796446"
      ]
     },
     "execution_count": 49,
     "metadata": {},
     "output_type": "execute_result"
    }
   ],
   "source": [
    "mv_coreg_spectral = MultiviewCoRegSpectralClustering(n_clusters=2,\n",
    "                                               random_state=42,\n",
    "                                               n_init=100)\n",
    "\n",
    "labels_mv_coreg_spectral = mv_coreg_spectral.fit_predict(data)\n",
    "\n",
    "s_nmi_mv_coreg_spectral = nmi_score(labels_mv_coreg_spectral, y)\n",
    "s_nmi_mv_coreg_spectral"
   ]
  },
  {
   "cell_type": "markdown",
   "metadata": {},
   "source": [
    "Now with Multiview Spherical Means:"
   ]
  },
  {
   "cell_type": "code",
   "execution_count": 14,
   "metadata": {
    "tags": []
   },
   "outputs": [
    {
     "data": {
      "text/plain": [
       "0.6843628400956293"
      ]
     },
     "execution_count": 14,
     "metadata": {},
     "output_type": "execute_result"
    }
   ],
   "source": [
    "mv_spherical_kmeans = MultiviewSphericalKMeans(n_clusters=2, random_state=42)\n",
    "\n",
    "labels_spherical_kmeans = mv_spherical_kmeans.fit_predict(data)\n",
    "\n",
    "s_nmi_spherical_kmeans = nmi_score(labels_spherical_kmeans, y)\n",
    "s_nmi_spherical_kmeans"
   ]
  },
  {
   "cell_type": "markdown",
   "metadata": {},
   "source": [
    "And finally we use mvlearn's Multiview KMeans:"
   ]
  },
  {
   "cell_type": "code",
   "execution_count": 15,
   "metadata": {
    "tags": []
   },
   "outputs": [
    {
     "data": {
      "text/plain": [
       "0.5615896365639194"
      ]
     },
     "execution_count": 15,
     "metadata": {},
     "output_type": "execute_result"
    }
   ],
   "source": [
    "mv_kmeans = MultiviewKMeans(n_clusters=2, random_state=42)\n",
    "\n",
    "labels_kmeans = mv_kmeans.fit_predict(data)\n",
    "\n",
    "s_nmi_kmeans = nmi_score(labels_kmeans, y)\n",
    "s_nmi_kmeans"
   ]
  },
  {
   "cell_type": "markdown",
   "metadata": {},
   "source": [
    "All results are summarised at the end of this notebook for comparison."
   ]
  },
  {
   "cell_type": "markdown",
   "metadata": {},
   "source": [
    "# Parea 2\n",
    "\n",
    "In this section, we will run the Parea 2 structure using hierarchical clustering and optimising its hyperparameters with a genetic algorithm. We will then evaluate its performance using the Normalized Mutual Information score as above."
   ]
  },
  {
   "cell_type": "code",
   "execution_count": 109,
   "metadata": {
    "tags": []
   },
   "outputs": [
    {
     "name": "stdout",
     "output_type": "stream",
     "text": [
      "['c_0_type', 'c_1_type', 'c_0_method', 'c_1_method', 'c_0_k', 'c_1_k', 'c_0_pre_type', 'c_1_pre_type', 'c_0_pre_method', 'c_1_pre_method', 'c_0_pre_k', 'c_1_pre_k', 'fusion_method']\n",
      "Silhouette score: 0.25206614153538387\n",
      "Silhouette score: 0.3279878618113912\n",
      "Silhouette score: 0.3299924287374579\n",
      "Silhouette score: 0.2042559277639923\n",
      "Silhouette score: 0.34075598421186654\n",
      "Silhouette score: 0.2391629157289322\n",
      "Silhouette score: 0.3565592903828198\n",
      "Silhouette score: 0.2042559277639923\n",
      "Silhouette score: 0.2391629157289322\n",
      "Silhouette score: 0.529158739073293\n",
      "Silhouette score: 0.440625\n",
      "Silhouette score: 0.4859592299809691\n",
      "Silhouette score: 0.3279878618113912\n",
      "Silhouette score: 0.25206614153538387\n",
      "Silhouette score: 0.4024972943722943\n",
      "Silhouette score: 0.213933347118831\n",
      "Silhouette score: 0.40583323479485606\n",
      "Silhouette score: 0.529158739073293\n",
      "Silhouette score: 0.32025540222507487\n",
      "Silhouette score: 0.34075598421186654\n",
      "Silhouette score: 0.4024972943722943\n",
      "Silhouette score: 0.4859592299809691\n",
      "Silhouette score: 0.27660774410774414\n",
      "Silhouette score: 0.5436004924953097\n",
      "Silhouette score: 0.45605223224767144\n",
      "Silhouette score: 0.3565592903828198\n",
      "Silhouette score: 0.440625\n",
      "Silhouette score: 0.5406250000000001\n",
      "Silhouette score: 0.1946281253729562\n",
      "Silhouette score: 0.28950773697846865\n",
      "Silhouette score: 0.5624920724066265\n",
      "Silhouette score: 0.35321158008658016\n",
      "Silhouette score: 0.3279878618113912\n",
      "Silhouette score: 0.5209712694157972\n",
      "Silhouette score: 0.27660774410774414\n",
      "Silhouette score: 0.36704540149393095\n",
      "Silhouette score: 0.34075598421186654\n",
      "Silhouette score: 0.471405804809773\n",
      "Silhouette score: 0.2877188552188552\n",
      "Silhouette score: 0.42758227539800825\n",
      "Silhouette score: 0.33847397292250236\n",
      "Silhouette score: 0.33847397292250236\n",
      "Silhouette score: 0.2596633253283711\n",
      "Silhouette score: 0.30154001252838464\n",
      "Silhouette score: 0.5624920724066265\n",
      "Silhouette score: 0.34075598421186654\n",
      "Silhouette score: 0.5624920724066265\n",
      "Silhouette score: 0.18177197246466087\n",
      "Silhouette score: 0.4849802371541502\n",
      "Silhouette score: 0.4859592299809691\n",
      "Silhouette score: 0.5081741540413575\n",
      "Silhouette score: 0.2042559277639923\n",
      "Silhouette score: 0.3480167901278549\n",
      "Silhouette score: 0.2042559277639923\n",
      "Silhouette score: 0.36704540149393095\n",
      "Silhouette score: 0.5406250000000001\n",
      "Silhouette score: 0.33847397292250236\n",
      "Silhouette score: 0.2884113647285845\n",
      "Silhouette score: 0.33847397292250236\n",
      "Silhouette score: 0.3299924287374579\n",
      "Silhouette score: 0.440625\n",
      "Silhouette score: 0.19474251184747407\n",
      "Silhouette score: 0.213933347118831\n",
      "Silhouette score: 0.20716027584279323\n",
      "Silhouette score: 0.07994427558257347\n",
      "Silhouette score: 0.2391629157289322\n",
      "Silhouette score: 0.529158739073293\n",
      "Silhouette score: 0.27660774410774414\n",
      "Silhouette score: 0.2713478726650924\n",
      "Silhouette score: 0.2381052234212399\n",
      "Silhouette score: 0.3299924287374579\n",
      "Silhouette score: 0.5624920724066265\n",
      "Silhouette score: 0.30154001252838464\n",
      "Silhouette score: 0.19474251184747407\n",
      "Silhouette score: 0.2391629157289322\n",
      "Silhouette score: 0.36275758025260946\n",
      "Silhouette score: 0.19474251184747407\n",
      "Silhouette score: 0.34075598421186654\n",
      "Silhouette score: 0.30154001252838464\n",
      "Silhouette score: 0.2877188552188552\n",
      "Silhouette score: 0.440625\n",
      "Silhouette score: 0.3175946112771404\n",
      "Silhouette score: 0.5436004924953097\n",
      "Silhouette score: 0.2381052234212399\n",
      "Silhouette score: 0.5624920724066265\n",
      "Silhouette score: 0.46376238933547514\n",
      "Silhouette score: 0.46357811042475283\n",
      "Silhouette score: 0.33847397292250236\n",
      "Silhouette score: 0.5209712694157972\n",
      "Silhouette score: 0.5209712694157972\n",
      "Silhouette score: 0.27660774410774414\n",
      "Silhouette score: 0.2884113647285845\n",
      "Silhouette score: 0.5436004924953097\n",
      "Silhouette score: 0.36841271804715203\n",
      "Silhouette score: 0.2391629157289322\n",
      "Silhouette score: 0.471405804809773\n",
      "Silhouette score: 0.2877188552188552\n",
      "Silhouette score: 0.2391629157289322\n",
      "Silhouette score: 0.19474251184747407\n",
      "Silhouette score: 0.45953448905430616\n",
      "gen\tnevals\tavg     \tstd     \tmin      \tmax     \n",
      "0  \t100   \t0.355744\t0.117095\t0.0799443\t0.562492\n",
      "Silhouette score: 0.5624920724066265\n",
      "Silhouette score: 0.440625\n",
      "Silhouette score: 0.5624920724066265\n",
      "Silhouette score: 0.529158739073293\n",
      "Silhouette score: 0.42758227539800825\n",
      "Silhouette score: 0.471405804809773\n",
      "Silhouette score: 0.5436004924953097\n",
      "Silhouette score: 0.5209712694157972\n",
      "Silhouette score: 0.4859592299809691\n",
      "Silhouette score: 0.33847397292250236\n",
      "Silhouette score: 0.34075598421186654\n",
      "Silhouette score: 0.42758227539800825\n",
      "Silhouette score: 0.18177197246466087\n",
      "Silhouette score: 0.5624920724066265\n",
      "Silhouette score: 0.3095325203252033\n",
      "Silhouette score: 0.39366042476296564\n",
      "Silhouette score: 0.5436004924953097\n",
      "Silhouette score: 0.529158739073293\n",
      "Silhouette score: 0.21962812537295617\n",
      "Silhouette score: 0.4646044740285159\n",
      "Silhouette score: 0.2391629157289322\n",
      "Silhouette score: 0.33847397292250236\n",
      "Silhouette score: 0.44286782238763955\n",
      "Silhouette score: 0.44189964423743594\n",
      "Silhouette score: 0.2884113647285845\n",
      "Silhouette score: 0.2536520958404803\n",
      "Silhouette score: 0.25206614153538387\n",
      "Silhouette score: 0.4024972943722943\n",
      "Silhouette score: 0.4859592299809691\n",
      "Silhouette score: 0.42719080853998437\n",
      "Silhouette score: 0.3565592903828198\n",
      "Silhouette score: 0.48703704505705414\n",
      "Silhouette score: 0.36704540149393095\n",
      "Silhouette score: 0.35321158008658016\n",
      "Silhouette score: 0.5624920724066265\n",
      "Silhouette score: 0.27660774410774414\n",
      "Silhouette score: 0.440625\n",
      "Silhouette score: 0.5406250000000001\n",
      "Silhouette score: 0.440625\n",
      "Silhouette score: 0.5436004924953097\n",
      "Silhouette score: 0.34075598421186654\n",
      "Silhouette score: 0.19474251184747407\n",
      "Silhouette score: 0.36841271804715203\n",
      "Silhouette score: 0.36704540149393095\n",
      "Silhouette score: 0.5209712694157972\n",
      "Silhouette score: 0.4859592299809691\n",
      "Silhouette score: 0.529158739073293\n",
      "Silhouette score: 0.42758227539800825\n",
      "Silhouette score: 0.42758227539800825\n",
      "Silhouette score: 0.440625\n",
      "Silhouette score: 0.2391629157289322\n",
      "Silhouette score: 0.35321158008658016\n",
      "Silhouette score: 0.440625\n",
      "Silhouette score: 0.42758227539800825\n",
      "Silhouette score: 0.6189987113186082\n",
      "Silhouette score: 0.21962812537295617\n",
      "Silhouette score: 0.5406250000000001\n",
      "Silhouette score: 0.2661520958404803\n",
      "Silhouette score: 0.5406250000000001\n",
      "Silhouette score: 0.4849802371541502\n",
      "Silhouette score: 0.5436004924953097\n",
      "Silhouette score: 0.529158739073293\n",
      "Silhouette score: 0.4024972943722943\n",
      "Silhouette score: 0.33847397292250236\n",
      "Silhouette score: 0.30154001252838464\n",
      "Silhouette score: 0.2884113647285845\n",
      "Silhouette score: 0.5624920724066265\n",
      "Silhouette score: 0.3427109961551451\n",
      "Silhouette score: 0.5624920724066265\n",
      "Silhouette score: 0.35024866845014413\n",
      "Silhouette score: 0.21962812537295617\n",
      "Silhouette score: 0.4024972943722943\n",
      "Silhouette score: 0.3175946112771404\n",
      "1  \t73    \t0.411898\t0.104698\t0.181772 \t0.618999\n",
      "Silhouette score: 0.25206614153538387\n",
      "Silhouette score: 0.4859592299809691\n",
      "Silhouette score: 0.471405804809773\n",
      "Silhouette score: 0.5436004924953097\n",
      "Silhouette score: 0.395406746031746\n",
      "Silhouette score: 0.5209712694157972\n",
      "Silhouette score: 0.3095325203252033\n",
      "Silhouette score: 0.5209712694157972\n",
      "Silhouette score: 0.529158739073293\n",
      "Silhouette score: 0.440625\n",
      "Silhouette score: 0.33847397292250236\n",
      "Silhouette score: 0.5624920724066265\n",
      "Silhouette score: 0.4859592299809691\n",
      "Silhouette score: 0.2391629157289322\n",
      "Silhouette score: 0.5406250000000001\n",
      "Silhouette score: 0.5624920724066265\n",
      "Silhouette score: 0.529158739073293\n",
      "Silhouette score: 0.4849802371541502\n",
      "Silhouette score: 0.35321158008658016\n",
      "Silhouette score: 0.440625\n",
      "Silhouette score: 0.5209712694157972\n",
      "Silhouette score: 0.5436004924953097\n",
      "Silhouette score: 0.440625\n",
      "Silhouette score: 0.48703704505705414\n",
      "Silhouette score: 0.5209712694157972\n",
      "Silhouette score: 0.07994427558257347\n",
      "Silhouette score: 0.6608046807310041\n",
      "Silhouette score: 0.6647887731481481\n",
      "Silhouette score: 0.3565592903828198\n",
      "Silhouette score: 0.5436004924953097\n",
      "Silhouette score: 0.471405804809773\n",
      "Silhouette score: 0.36841271804715203\n",
      "Silhouette score: 0.5624920724066265\n",
      "Silhouette score: 0.3279878618113912\n",
      "Silhouette score: 0.4859592299809691\n",
      "Silhouette score: 0.2388679567221625\n",
      "Silhouette score: 0.5624920724066265\n",
      "Silhouette score: 0.529158739073293\n",
      "Silhouette score: 0.529158739073293\n",
      "Silhouette score: 0.45605223224767144\n",
      "Silhouette score: 0.3095325203252033\n",
      "Silhouette score: 0.4859592299809691\n",
      "Silhouette score: 0.4859592299809691\n",
      "Silhouette score: 0.34075598421186654\n",
      "Silhouette score: 0.529158739073293\n",
      "Silhouette score: 0.2391629157289322\n",
      "Silhouette score: 0.4859592299809691\n",
      "Silhouette score: 0.5436004924953097\n",
      "Silhouette score: 0.46376238933547514\n",
      "Silhouette score: 0.5624920724066265\n",
      "Silhouette score: 0.5436004924953097\n",
      "Silhouette score: 0.5209712694157972\n",
      "Silhouette score: 0.2391629157289322\n",
      "Silhouette score: 0.5624920724066265\n",
      "Silhouette score: 0.42348354050559933\n",
      "Silhouette score: 0.3095325203252033\n",
      "Silhouette score: 0.42348354050559933\n",
      "Silhouette score: 0.4024972943722943\n",
      "Silhouette score: 0.4859592299809691\n",
      "Silhouette score: 0.5406250000000001\n",
      "Silhouette score: 0.6189987113186082\n",
      "Silhouette score: 0.2388679567221625\n",
      "Silhouette score: 0.2884113647285845\n",
      "Silhouette score: 0.440625\n",
      "Silhouette score: 0.46376238933547514\n",
      "Silhouette score: 0.2884113647285845\n",
      "Silhouette score: 0.4859592299809691\n",
      "Silhouette score: 0.4859592299809691\n",
      "Silhouette score: 0.529158739073293\n",
      "Silhouette score: 0.3668353174603175\n",
      "Silhouette score: 0.3279878618113912\n",
      "Silhouette score: 0.33847397292250236\n",
      "Silhouette score: 0.48572317364920065\n",
      "Silhouette score: 0.2612450685148895\n",
      "Silhouette score: 0.4859592299809691\n",
      "Silhouette score: 0.440625\n",
      "2  \t76    \t0.446462\t0.108182\t0.0799443\t0.664789\n",
      "Silhouette score: 0.6189987113186082\n",
      "Silhouette score: 0.471405804809773\n",
      "Silhouette score: 0.4859592299809691\n",
      "Silhouette score: 0.4849802371541502\n",
      "Silhouette score: 0.5209712694157972\n",
      "Silhouette score: 0.5209712694157972\n",
      "Silhouette score: 0.5406250000000001\n",
      "Silhouette score: 0.33847397292250236\n",
      "Silhouette score: 0.42348354050559933\n",
      "Silhouette score: 0.2596633253283711\n",
      "Silhouette score: 0.529158739073293\n",
      "Silhouette score: 0.5406250000000001\n",
      "Silhouette score: 0.4859592299809691\n",
      "Silhouette score: 0.529158739073293\n",
      "Silhouette score: 0.5406250000000001\n",
      "Silhouette score: 0.6320492869943228\n",
      "Silhouette score: 0.5624920724066265\n",
      "Silhouette score: 0.33847397292250236\n",
      "Silhouette score: 0.529158739073293\n",
      "Silhouette score: 0.4859592299809691\n",
      "Silhouette score: 0.3565592903828198\n",
      "Silhouette score: 0.42758227539800825\n",
      "Silhouette score: 0.5436004924953097\n",
      "Silhouette score: 0.46376238933547514\n",
      "Silhouette score: 0.529158739073293\n",
      "Silhouette score: 0.6134536499204349\n",
      "Silhouette score: 0.42348354050559933\n",
      "Silhouette score: 0.5624920724066265\n",
      "Silhouette score: 0.46376238933547514\n",
      "Silhouette score: 0.529158739073293\n",
      "Silhouette score: 0.440625\n",
      "Silhouette score: 0.44286782238763955\n",
      "Silhouette score: 0.5624920724066265\n",
      "Silhouette score: 0.5406250000000001\n",
      "Silhouette score: 0.6189987113186082\n",
      "Silhouette score: 0.5436004924953097\n",
      "Silhouette score: 0.529158739073293\n",
      "Silhouette score: 0.529158739073293\n",
      "Silhouette score: 0.6134536499204349\n",
      "Silhouette score: 0.5624920724066265\n",
      "Silhouette score: 0.529158739073293\n",
      "Silhouette score: 0.529158739073293\n",
      "Silhouette score: 0.529158739073293\n",
      "Silhouette score: 0.5209712694157972\n",
      "Silhouette score: 0.5436004924953097\n",
      "Silhouette score: 0.33847397292250236\n",
      "Silhouette score: 0.6608046807310041\n",
      "Silhouette score: 0.3668353174603175\n",
      "Silhouette score: 0.48572317364920065\n",
      "Silhouette score: 0.4849802371541502\n",
      "Silhouette score: 0.5209712694157972\n",
      "Silhouette score: 0.4859592299809691\n",
      "Silhouette score: 0.5209712694157972\n",
      "Silhouette score: 0.6134536499204349\n",
      "Silhouette score: 0.36704540149393095\n",
      "Silhouette score: 0.3565592903828198\n",
      "Silhouette score: 0.529158739073293\n",
      "Silhouette score: 0.5624920724066265\n",
      "Silhouette score: 0.5436004924953097\n",
      "Silhouette score: 0.33847397292250236\n",
      "Silhouette score: 0.395406746031746\n",
      "Silhouette score: 0.4849802371541502\n",
      "Silhouette score: 0.36704540149393095\n",
      "Silhouette score: 0.4859592299809691\n",
      "Silhouette score: 0.46376238933547514\n",
      "Silhouette score: 0.5209712694157972\n",
      "Silhouette score: 0.4859592299809691\n",
      "Silhouette score: 0.440625\n",
      "Silhouette score: 0.4849802371541502\n",
      "Silhouette score: 0.4859592299809691\n",
      "Silhouette score: 0.6647887731481481\n",
      "Silhouette score: 0.5624920724066265\n",
      "Silhouette score: 0.46357811042475283\n",
      "Silhouette score: 0.41933740601503755\n",
      "Silhouette score: 0.5209712694157972\n",
      "3  \t75    \t0.493546\t0.0807035\t0.259663 \t0.664789\n",
      "Silhouette score: 0.5436004924953097\n",
      "Silhouette score: 0.6608046807310041\n",
      "Silhouette score: 0.529158739073293\n",
      "Silhouette score: 0.6189987113186082\n",
      "Silhouette score: 0.529158739073293\n",
      "Silhouette score: 0.529158739073293\n",
      "Silhouette score: 0.5624920724066265\n",
      "Silhouette score: 0.529158739073293\n",
      "Silhouette score: 0.5209712694157972\n",
      "Silhouette score: 0.5624920724066265\n",
      "Silhouette score: 0.46376238933547514\n",
      "Silhouette score: 0.6320492869943228\n",
      "Silhouette score: 0.529158739073293\n",
      "Silhouette score: 0.440625\n",
      "Silhouette score: 0.4859592299809691\n",
      "Silhouette score: 0.5436004924953097\n",
      "Silhouette score: 0.4849802371541502\n",
      "Silhouette score: 0.4859592299809691\n",
      "Silhouette score: 0.5624920724066265\n",
      "Silhouette score: 0.5436004924953097\n",
      "Silhouette score: 0.5406250000000001\n",
      "Silhouette score: 0.5209712694157972\n",
      "Silhouette score: 0.6134536499204349\n",
      "Silhouette score: 0.4859592299809691\n",
      "Silhouette score: 0.5624920724066265\n",
      "Silhouette score: 0.5406250000000001\n",
      "Silhouette score: 0.5436004924953097\n",
      "Silhouette score: 0.529158739073293\n",
      "Silhouette score: 0.4859592299809691\n",
      "Silhouette score: 0.5436004924953097\n",
      "Silhouette score: 0.6134536499204349\n",
      "Silhouette score: 0.3668353174603175\n",
      "Silhouette score: 0.529158739073293\n",
      "Silhouette score: 0.529158739073293\n",
      "Silhouette score: 0.5624920724066265\n",
      "Silhouette score: 0.6134536499204349\n",
      "Silhouette score: 0.6608046807310041\n",
      "Silhouette score: 0.5436004924953097\n",
      "Silhouette score: 0.5406250000000001\n",
      "Silhouette score: 0.529158739073293\n",
      "Silhouette score: 0.5624920724066265\n",
      "Silhouette score: 0.471405804809773\n",
      "Silhouette score: 0.6608046807310041\n",
      "Silhouette score: 0.5436004924953097\n",
      "Silhouette score: 0.5209712694157972\n",
      "Silhouette score: 0.529158739073293\n",
      "Silhouette score: 0.5436004924953097\n",
      "Silhouette score: 0.5624920724066265\n",
      "Silhouette score: 0.529158739073293\n",
      "Silhouette score: 0.5436004924953097\n",
      "Silhouette score: 0.6134536499204349\n",
      "Silhouette score: 0.5436004924953097\n",
      "Silhouette score: 0.5406250000000001\n",
      "Silhouette score: 0.529158739073293\n",
      "Silhouette score: 0.5624920724066265\n",
      "Silhouette score: 0.529158739073293\n",
      "Silhouette score: 0.529158739073293\n",
      "Silhouette score: 0.529158739073293\n",
      "Silhouette score: 0.7058706974637682\n",
      "Silhouette score: 0.4849802371541502\n",
      "Silhouette score: 0.529158739073293\n",
      "Silhouette score: 0.5436004924953097\n",
      "Silhouette score: 0.471405804809773\n",
      "4  \t63    \t0.548669\t0.0513309\t0.366835 \t0.705871\n",
      "Silhouette score: 0.5624920724066265\n",
      "Silhouette score: 0.529158739073293\n",
      "Silhouette score: 0.5624920724066265\n",
      "Silhouette score: 0.6134536499204349\n",
      "Silhouette score: 0.5624920724066265\n",
      "Silhouette score: 0.5624920724066265\n",
      "Silhouette score: 0.6134536499204349\n",
      "Silhouette score: 0.6189987113186082\n",
      "Silhouette score: 0.5436004924953097\n",
      "Silhouette score: 0.5624920724066265\n",
      "Silhouette score: 0.6189987113186082\n",
      "Silhouette score: 0.5436004924953097\n",
      "Silhouette score: 0.5436004924953097\n",
      "Silhouette score: 0.5624920724066265\n",
      "Silhouette score: 0.529158739073293\n",
      "Silhouette score: 0.6608046807310041\n",
      "Silhouette score: 0.6608046807310041\n",
      "Silhouette score: 0.5436004924953097\n",
      "Silhouette score: 0.5406250000000001\n",
      "Silhouette score: 0.5436004924953097\n",
      "Silhouette score: 0.5436004924953097\n",
      "Silhouette score: 0.5209712694157972\n",
      "Silhouette score: 0.5624920724066265\n",
      "Silhouette score: 0.6189987113186082\n",
      "Silhouette score: 0.6134536499204349\n",
      "Silhouette score: 0.5624920724066265\n",
      "Silhouette score: 0.5436004924953097\n",
      "Silhouette score: 0.5624920724066265\n",
      "Silhouette score: 0.529158739073293\n",
      "Silhouette score: 0.5436004924953097\n",
      "Silhouette score: 0.4859592299809691\n",
      "Silhouette score: 0.5209712694157972\n",
      "Silhouette score: 0.6134536499204349\n",
      "Silhouette score: 0.5624920724066265\n",
      "Silhouette score: 0.5624920724066265\n",
      "Silhouette score: 0.5436004924953097\n",
      "Silhouette score: 0.5624920724066265\n",
      "Silhouette score: 0.6134536499204349\n",
      "Silhouette score: 0.5436004924953097\n",
      "Silhouette score: 0.6608046807310041\n",
      "Silhouette score: 0.5436004924953097\n",
      "Silhouette score: 0.6134536499204349\n",
      "Silhouette score: 0.5624920724066265\n",
      "Silhouette score: 0.6189987113186082\n",
      "Silhouette score: 0.5209712694157972\n",
      "Silhouette score: 0.4024972943722943\n",
      "Silhouette score: 0.6134536499204349\n",
      "Silhouette score: 0.6189987113186082\n",
      "Silhouette score: 0.6189987113186082\n",
      "Silhouette score: 0.6134536499204349\n",
      "Silhouette score: 0.6608046807310041\n",
      "Silhouette score: 0.6320492869943228\n",
      "Silhouette score: 0.5624920724066265\n",
      "Silhouette score: 0.3907659774436091\n",
      "Silhouette score: 0.5436004924953097\n",
      "Silhouette score: 0.6134536499204349\n",
      "Silhouette score: 0.41933740601503755\n",
      "Silhouette score: 0.529158739073293\n",
      "Silhouette score: 0.6134536499204349\n",
      "Silhouette score: 0.529158739073293\n",
      "Silhouette score: 0.5057187051649927\n",
      "Silhouette score: 0.5624920724066265\n",
      "Silhouette score: 0.6608046807310041\n",
      "Silhouette score: 0.5436004924953097\n",
      "Silhouette score: 0.6189987113186082\n",
      "Silhouette score: 0.5406250000000001\n",
      "Silhouette score: 0.5406250000000001\n",
      "Silhouette score: 0.5436004924953097\n",
      "Silhouette score: 0.529158739073293\n",
      "Silhouette score: 0.529158739073293\n",
      "Silhouette score: 0.5624920724066265\n",
      "Silhouette score: 0.7058706974637682\n",
      "Silhouette score: 0.5406250000000001\n",
      "Silhouette score: 0.5436004924953097\n",
      "Silhouette score: 0.6189987113186082\n",
      "Silhouette score: 0.6134536499204349\n",
      "Silhouette score: 0.5436004924953097\n",
      "Silhouette score: 0.529158739073293\n",
      "Silhouette score: 0.6134536499204349\n",
      "Silhouette score: 0.7058706974637682\n",
      "Silhouette score: 0.5406250000000001\n",
      "Silhouette score: 0.6134536499204349\n",
      "5  \t82    \t0.571083\t0.0539831\t0.390766 \t0.705871\n",
      "\n",
      "Summary:\n",
      "gen\tnevals\tavg     \tstd      \tmin      \tmax     \n",
      "0  \t100   \t0.355744\t0.117095 \t0.0799443\t0.562492\n",
      "1  \t73    \t0.411898\t0.104698 \t0.181772 \t0.618999\n",
      "2  \t76    \t0.446462\t0.108182 \t0.0799443\t0.664789\n",
      "3  \t75    \t0.493546\t0.0807035\t0.259663 \t0.664789\n",
      "4  \t63    \t0.548669\t0.0513309\t0.366835 \t0.705871\n",
      "5  \t82    \t0.571083\t0.0539831\t0.390766 \t0.705871\n"
     ]
    }
   ],
   "source": [
    "params_parea2 = pyrea.parea_2_mv_genetic(data, k_min=2, k_max=6, n_population=100, n_generations=5)"
   ]
  },
  {
   "cell_type": "markdown",
   "metadata": {},
   "source": [
    "The genetic algorithm training is complete.\n",
    "\n",
    "We can take a look at the parameters that were chosen by the genetic algorithm:"
   ]
  },
  {
   "cell_type": "code",
   "execution_count": 110,
   "metadata": {
    "tags": []
   },
   "outputs": [
    {
     "data": {
      "text/plain": [
       "{'clusterers': ['hierarchical', 'hierarchical'],\n",
       " 'methods': ['ward2', 'single'],\n",
       " 'k_s': [2, 3],\n",
       " 'precomputed_clusterers': ['hierarchical', 'hierarchical'],\n",
       " 'precomputed_methods': ['complete', 'weighted'],\n",
       " 'precomputed_k_s': [2, 2],\n",
       " 'fusion_method': 'disagreement'}"
      ]
     },
     "execution_count": 110,
     "metadata": {},
     "output_type": "execute_result"
    }
   ],
   "source": [
    "params_parea2"
   ]
  },
  {
   "cell_type": "markdown",
   "metadata": {},
   "source": [
    "To get the score, we can run Parea_2 using the optimal parameters, which returns the predicted labels:"
   ]
  },
  {
   "cell_type": "code",
   "execution_count": 111,
   "metadata": {
    "tags": []
   },
   "outputs": [
    {
     "name": "stdout",
     "output_type": "stream",
     "text": [
      "[1 1 1 1 1 1 1 1 1 1 1 1 1 1 1 1 1 1 1 1 0 0 0 0 0 1 0 0 0 0 0 1 0 0 0 1 0\n",
      " 0 0 0]\n"
     ]
    }
   ],
   "source": [
    "labels_parea_2 = pyrea.parea_2_mv(data, **params_parea2)\n",
    "print(labels_parea_2)"
   ]
  },
  {
   "cell_type": "markdown",
   "metadata": {},
   "source": [
    "Compare this with the ground truth:"
   ]
  },
  {
   "cell_type": "code",
   "execution_count": 112,
   "metadata": {
    "tags": []
   },
   "outputs": [
    {
     "name": "stdout",
     "output_type": "stream",
     "text": [
      "[1 1 1 1 1 1 1 1 1 1 1 1 1 1 1 1 1 1 1 1 0 0 0 0 0 0 0 0 0 0 0 0 0 0 0 0 0\n",
      " 0 0 0]\n"
     ]
    }
   ],
   "source": [
    "print(y)"
   ]
  },
  {
   "cell_type": "markdown",
   "metadata": {},
   "source": [
    "Now we can use the predicted labels to create the NMI score:"
   ]
  },
  {
   "cell_type": "code",
   "execution_count": 113,
   "metadata": {
    "tags": []
   },
   "outputs": [
    {
     "name": "stdout",
     "output_type": "stream",
     "text": [
      "NMI score: 0.6843628400956293\n"
     ]
    }
   ],
   "source": [
    "s_nmi_parea_2 = nmi_score(labels_parea_2, y)\n",
    "print(f\"NMI score: {s_nmi_parea_2}\")"
   ]
  },
  {
   "cell_type": "markdown",
   "metadata": {},
   "source": [
    "# Conclusions\n",
    "\n",
    "The best scores obtained are summarised below (note these may differ from the scores above, as this table contains the **best** scores achieved):\n",
    "\n",
    "| Method                                                | NMI Score              |\n",
    "|-------------------------------------------------------|------------------------|\n",
    "| Parea_1 (Hierarchical)                                | 0.5615896365639194     |\n",
    "| **Parea_1 (Spectral)**                                | **0.6843628400956292** |\n",
    "| **Parea_2 (Hierarchical)**                            | **0.6843628400956293** |\n",
    "| mvlearn (Multiview Coregularized Spectral Clustering) | 0.4591921489796446     |\n",
    "| **mvlearn (Multiview Spherical Means)**               | **0.6843628400956293** |\n",
    "| mvlearn (Multiview KMeans)                            | 0.5615896365639194     |\n",
    "\n",
    "## Configurations\n",
    "\n",
    "Here we desribe the configurations that led the scores above, for Parea_1 and Parea_2.\n",
    "\n",
    "### Parea_2 (Hierarchical)\n",
    "\n",
    "Parea_2 with hierarcical clustering scores 0.6843628400956293 with following training configuration: \n",
    "\n",
    "```python\n",
    "params_parea2 = pyrea.parea_2_mv_genetic(data, k_min=2, k_max=6, n_population=100, n_generations=5)\n",
    "```\n",
    "\n",
    "Resulting in the following parameters:\n",
    "\n",
    "```js\n",
    "{'clusterers': ['hierarchical', 'hierarchical'],\n",
    " 'methods': ['ward2', 'single'],\n",
    " 'k_s': [2, 3],\n",
    " 'precomputed_clusterers': ['hierarchical', 'hierarchical'],\n",
    " 'precomputed_methods': ['complete', 'weighted'],\n",
    " 'precomputed_k_s': [2, 2],\n",
    " 'fusion_method': 'disagreement'}\n",
    "```\n",
    "\n",
    "### Parea_1 (Spectral) \n",
    "\n",
    "Parea_1 with spectral clustering scores 0.6843628400956292 with the following training configuration:\n",
    "\n",
    "```python\n",
    "params_spectral = pyrea.parea_1_genetic_spectral(data, k_min=2, k_max=8, k_final=2, n_neighbors_min=10, n_neighbors_max=15, n_population=10, n_generations=3)\n",
    "```\n",
    "\n",
    "Resulting in the following parameters: \n",
    "\n",
    "```js\n",
    "['spectral', 15, 4, 'spectral', 12, 4, 'spectral', 15, 2, 'spectral', 12, 2, 'agreement']\n",
    "```\n",
    "\n",
    "### Parea_1 (Hierarchical)\n",
    "\n",
    "Parea_1 with hierarchical clustering scores 0.5615896365639194 with the following training configuration:\n",
    "\n",
    "```python\n",
    "params_hierarchical = pyrea.parea_1_genetic(data, k_min=2, k_max=5, k_final=2, n_generations=10, n_population=10)\n",
    "```\n",
    "\n",
    "Resulting in the following parameters:\n",
    "\n",
    "```js\n",
    "['hierarchical',\n",
    " 'ward2',\n",
    " 2,\n",
    " 'hierarchical',\n",
    " 'ward',\n",
    " 2,\n",
    " 'hierarchical',\n",
    " 'centroid',\n",
    " 2,\n",
    " 'hierarchical',\n",
    " 'complete',\n",
    " 2,\n",
    " 'disagreement']\n",
    "```\n",
    "\n",
    "---\n",
    "\n",
    "_Note that the values in the table above are the best scores achieved, and may be different when the notebook is re-run. Due to the stochastic nature of the genetic algorithm, new runs will produce different clusterings and different NMI scores._\n",
    "\n",
    "---"
   ]
  },
  {
   "cell_type": "markdown",
   "metadata": {},
   "source": [
    "# References\n",
    "\n",
    "<span id=\"fn1\"><sup>1</sup> Nutrimouse data: https://aasldpubs.onlinelibrary.wiley.com/doi/10.1002/hep.21510</span>\n",
    "\n",
    "<span id=\"fn2\"><sup>2</sup> mvlearn Nutrimouse example: https://mvlearn.github.io/auto_examples/datasets/plot_nutrimouse.html</span>"
   ]
  }
 ],
 "metadata": {
  "kernelspec": {
   "display_name": "Python-3.9",
   "language": "python",
   "name": "python-3.9"
  },
  "language_info": {
   "codemirror_mode": {
    "name": "ipython",
    "version": 3
   },
   "file_extension": ".py",
   "mimetype": "text/x-python",
   "name": "python",
   "nbconvert_exporter": "python",
   "pygments_lexer": "ipython3",
   "version": "3.9.15"
  }
 },
 "nbformat": 4,
 "nbformat_minor": 4
}
