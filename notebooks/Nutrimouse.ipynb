{
 "cells": [
  {
   "cell_type": "markdown",
   "metadata": {},
   "source": [
    "# Using Pyrea with Nutrimouse Data Utilising Hierarchical and Spectral Clustering\n",
    "\n",
    "In this notebok we demonstrate Pyrea's usage by performing hierarchical and spectral clustering on the Nutrimouse[<sup>1</sup>](#fn1) dataset.\n",
    "\n",
    "We will do this using the Parea_1 structure, a structure that is included as a helper function in the Pyrea software package.\n",
    "\n",
    "## Imports\n",
    "This notebook requires Pyrea, mvlearn, and Numpy, let's import the relevant items here:"
   ]
  },
  {
   "cell_type": "code",
   "execution_count": 1,
   "metadata": {
    "tags": []
   },
   "outputs": [],
   "source": [
    "import pyrea\n",
    "import numpy as np\n",
    "from operator import itemgetter\n",
    "from mvlearn.datasets import load_nutrimouse"
   ]
  },
  {
   "cell_type": "markdown",
   "metadata": {},
   "source": [
    "## Load Data\n",
    "\n",
    "Load the Nutrimouse data from mvlearn:[<sup>2</sup>](#fn2)"
   ]
  },
  {
   "cell_type": "code",
   "execution_count": 2,
   "metadata": {
    "tags": []
   },
   "outputs": [],
   "source": [
    "nutrimouse_dataset = load_nutrimouse()\n",
    "data = [nutrimouse_dataset['gene'], nutrimouse_dataset['lipid']]\n",
    "\n",
    "y_all = np.vstack((nutrimouse_dataset['genotype'], nutrimouse_dataset['diet'])).T\n",
    "y = y_all[:,0]"
   ]
  },
  {
   "cell_type": "markdown",
   "metadata": {},
   "source": [
    "Note: the variable `y` contains the ground truths that we will use for evaluation later in the notebook. The ground truths are not used during training."
   ]
  },
  {
   "cell_type": "markdown",
   "metadata": {},
   "source": [
    "Preview the shape of the data:"
   ]
  },
  {
   "cell_type": "code",
   "execution_count": 3,
   "metadata": {
    "tags": []
   },
   "outputs": [
    {
     "name": "stdout",
     "output_type": "stream",
     "text": [
      "Number of views: 2\n",
      "Shape of view 1: 40 x 120\n",
      "Shape of view 2: 40 x 21\n"
     ]
    }
   ],
   "source": [
    "print(f'Number of views: {len(data)}')\n",
    "print(f'Shape of view 1: {np.shape(data[0])[0]} x {np.shape(data[0])[1]}')\n",
    "print(f'Shape of view 2: {np.shape(data[1])[0]} x {np.shape(data[1])[1]}')"
   ]
  },
  {
   "cell_type": "markdown",
   "metadata": {},
   "source": [
    "As can be seen there are 2 views. View 1 has 120 features for each of the 40 mice, while view 2 has 21 features for each of the 40 mice. As this is a multi-view dataset, the 40 samples refer to the same 40 mice in both datasets.\n",
    "\n",
    "We will use Parea_1 to perform hierarchical clustering and spectral clustering on this dataset, and use Pyrea's built-in genetic algorithm functionality to find the best hyperparameters to use for this data."
   ]
  },
  {
   "cell_type": "markdown",
   "metadata": {},
   "source": [
    "# Parea_1"
   ]
  },
  {
   "cell_type": "markdown",
   "metadata": {},
   "source": [
    "## Hierarchical Clustering\n",
    "\n",
    "Perform the genetic algorithm as follows, which will learn the best parameters to use for the clustering:"
   ]
  },
  {
   "cell_type": "code",
   "execution_count": 4,
   "metadata": {
    "tags": []
   },
   "outputs": [
    {
     "name": "stdout",
     "output_type": "stream",
     "text": [
      "Silhouette score: 0.6995833333333333\n",
      "Silhouette score: 0.6083333333333334\n",
      "Silhouette score: 0.5625\n",
      "Silhouette score: 0.8166666666666668\n",
      "Silhouette score: 0.46607142857142847\n",
      "Silhouette score: 0.5071428571428571\n",
      "Silhouette score: 0.41482142857142856\n",
      "Silhouette score: 0.5032142857142856\n",
      "Silhouette score: 0.5641369047619047\n",
      "Silhouette score: 0.4791699372056515\n",
      "gen\tnevals\tavg     \tstd     \tmin     \tmax     \n",
      "0  \t10    \t0.562164\t0.114072\t0.414821\t0.816667\n",
      "Silhouette score: 0.5071428571428571\n",
      "Silhouette score: 0.5625\n",
      "Silhouette score: 0.44812303709362533\n",
      "Silhouette score: 0.7458333333333333\n",
      "Silhouette score: 0.5641369047619047\n",
      "Silhouette score: 0.81875\n",
      "Silhouette score: 0.5071428571428571\n",
      "Silhouette score: 0.6083333333333334\n",
      "Silhouette score: 0.6995833333333333\n",
      "1  \t9     \t0.616113\t0.113767\t0.448123\t0.81875 \n",
      "Silhouette score: 0.8625\n",
      "Silhouette score: 0.7217867146858744\n",
      "Silhouette score: 0.81875\n",
      "Silhouette score: 0.81875\n",
      "Silhouette score: 0.7458333333333333\n",
      "Silhouette score: 0.7458333333333333\n",
      "Silhouette score: 0.6995833333333333\n",
      "Silhouette score: 0.81875\n",
      "2  \t8     \t0.765887\t0.0724434\t0.608333\t0.8625  \n",
      "Silhouette score: 0.81875\n",
      "Silhouette score: 0.81875\n",
      "Silhouette score: 0.81875\n",
      "Silhouette score: 0.81875\n",
      "Silhouette score: 0.81875\n",
      "Silhouette score: 0.81875\n",
      "Silhouette score: 0.81875\n",
      "Silhouette score: 0.81875\n",
      "Silhouette score: 0.7458333333333333\n",
      "Silhouette score: 0.7458333333333333\n",
      "3  \t10    \t0.804167\t0.0291667\t0.745833\t0.81875 \n",
      "\n",
      "Summary:\n",
      "gen\tnevals\tavg     \tstd      \tmin     \tmax     \n",
      "0  \t10    \t0.562164\t0.114072 \t0.414821\t0.816667\n",
      "1  \t9     \t0.616113\t0.113767 \t0.448123\t0.81875 \n",
      "2  \t8     \t0.765887\t0.0724434\t0.608333\t0.8625  \n",
      "3  \t10    \t0.804167\t0.0291667\t0.745833\t0.81875 \n"
     ]
    }
   ],
   "source": [
    "params_hierarchical = pyrea.parea_1_genetic(data, k_min=2, k_max=5, k_final=2, n_generations=3, n_population=10)"
   ]
  },
  {
   "cell_type": "markdown",
   "metadata": {},
   "source": [
    "Once this is complete `params_hierarchical` contains the optimal parameters for this data, which we can then use to call the `parea_1` function with the optimal parameters that we have learned:"
   ]
  },
  {
   "cell_type": "code",
   "execution_count": 5,
   "metadata": {
    "tags": []
   },
   "outputs": [
    {
     "name": "stdout",
     "output_type": "stream",
     "text": [
      "[1 1 1 1 0 0 1 1 1 0 1 1 1 1 1 1 0 1 0 1 0 0 0 1 0 0 0 0 1 0 0 0 0 0 1 0 0\n",
      " 1 0 0]\n"
     ]
    }
   ],
   "source": [
    "labels_hierarchical = pyrea.parea_1(data, *params_hierarchical)\n",
    "\n",
    "print(labels_hierarchical)"
   ]
  },
  {
   "cell_type": "markdown",
   "metadata": {},
   "source": [
    "We can also print the parameters to see which were selected by the genetic algorithm:"
   ]
  },
  {
   "cell_type": "code",
   "execution_count": 6,
   "metadata": {
    "tags": []
   },
   "outputs": [
    {
     "data": {
      "text/plain": [
       "['hierarchical',\n",
       " 'single',\n",
       " 5,\n",
       " 'hierarchical',\n",
       " 'median',\n",
       " 5,\n",
       " 'hierarchical',\n",
       " 'ward',\n",
       " 2,\n",
       " 'hierarchical',\n",
       " 'single',\n",
       " 3,\n",
       " 'disagreement']"
      ]
     },
     "execution_count": 6,
     "metadata": {},
     "output_type": "execute_result"
    }
   ],
   "source": [
    "params_hierarchical"
   ]
  },
  {
   "cell_type": "markdown",
   "metadata": {},
   "source": [
    "## Spectral Clustering\n",
    "\n",
    "This is performed in almost the same way:"
   ]
  },
  {
   "cell_type": "code",
   "execution_count": 7,
   "metadata": {
    "tags": []
   },
   "outputs": [
    {
     "name": "stdout",
     "output_type": "stream",
     "text": [
      "Silhouette score: 0.6962612612612613\n",
      "Silhouette score: 0.38844537815126046\n",
      "Silhouette score: 0.3454545454545455\n",
      "Silhouette score: 0.5086440601610625\n",
      "Silhouette score: 0.33914065898216617\n",
      "Silhouette score: 0.41237716399547997\n",
      "Silhouette score: 0.3448436192070988\n",
      "Silhouette score: 0.5154130380421191\n",
      "Silhouette score: 0.5096638655462185\n",
      "Silhouette score: 0.539705292702486\n",
      "gen\tnevals\tavg     \tstd     \tmin     \tmax     \n",
      "0  \t10    \t0.459995\t0.108836\t0.339141\t0.696261\n",
      "Silhouette score: 0.6031428303303302\n",
      "Silhouette score: 0.6333302890940127\n",
      "Silhouette score: 0.3684953597661961\n",
      "Silhouette score: 0.4137893093283824\n",
      "Silhouette score: 0.628125\n",
      "Silhouette score: 0.5338791562717029\n",
      "Silhouette score: 0.7021491224363496\n",
      "Silhouette score: 0.7149128396689373\n",
      "Silhouette score: 0.5728280172821337\n",
      "Silhouette score: 0.3535983717778365\n",
      "1  \t10    \t0.552425\t0.125304\t0.353598\t0.714913\n",
      "Silhouette score: 0.7004166666666667\n",
      "Silhouette score: 0.7143055555555555\n",
      "2  \t2     \t0.661777\t0.0676587\t0.533879\t0.714913\n",
      "Silhouette score: 0.6806387364808417\n",
      "Silhouette score: 0.6108519445562128\n",
      "Silhouette score: 0.7168055555555556\n",
      "Silhouette score: 0.7080742255413308\n",
      "Silhouette score: 0.6869920634920635\n",
      "Silhouette score: 0.6866666666666668\n",
      "Silhouette score: 0.3720588235294117\n",
      "Silhouette score: 0.7231354972007465\n",
      "Silhouette score: 0.6803721003392057\n",
      "Silhouette score: 0.7080555555555555\n",
      "3  \t10    \t0.657365\t0.0996847\t0.372059\t0.723135\n",
      "\n",
      "Summary:\n",
      "gen\tnevals\tavg     \tstd      \tmin     \tmax     \n",
      "0  \t10    \t0.459995\t0.108836 \t0.339141\t0.696261\n",
      "1  \t10    \t0.552425\t0.125304 \t0.353598\t0.714913\n",
      "2  \t2     \t0.661777\t0.0676587\t0.533879\t0.714913\n",
      "3  \t10    \t0.657365\t0.0996847\t0.372059\t0.723135\n"
     ]
    }
   ],
   "source": [
    "params_spectral = pyrea.parea_1_genetic_spectral(data, k_min=2, k_max=8, k_final=2, n_neighbors_min=10, n_neighbors_max=15, n_population=10, n_generations=3)"
   ]
  },
  {
   "cell_type": "markdown",
   "metadata": {},
   "source": [
    "Again this returns our optimal parameters, which we then use to perform the clustering using the `parea_1_spectral` function:"
   ]
  },
  {
   "cell_type": "code",
   "execution_count": 8,
   "metadata": {
    "tags": []
   },
   "outputs": [
    {
     "name": "stdout",
     "output_type": "stream",
     "text": [
      "[1 1 1 1 1 0 1 1 1 0 1 1 1 1 1 1 0 1 0 1 0 0 0 0 0 0 0 0 0 0 0 0 0 0 0 0 0\n",
      " 1 0 0]\n"
     ]
    }
   ],
   "source": [
    "labels_spectral = pyrea.parea_1_spectral(data, *params_spectral, k_final=2)\n",
    "\n",
    "print(labels_spectral)"
   ]
  },
  {
   "cell_type": "markdown",
   "metadata": {},
   "source": [
    "We can also print the parameters to see which were selected by the genetic algorithm:"
   ]
  },
  {
   "cell_type": "code",
   "execution_count": 9,
   "metadata": {
    "tags": []
   },
   "outputs": [
    {
     "data": {
      "text/plain": [
       "['spectral',\n",
       " 15,\n",
       " 6,\n",
       " 'spectral',\n",
       " 11,\n",
       " 5,\n",
       " 'spectral',\n",
       " 11,\n",
       " 5,\n",
       " 'spectral',\n",
       " 13,\n",
       " 2,\n",
       " 'agreement']"
      ]
     },
     "execution_count": 9,
     "metadata": {},
     "output_type": "execute_result"
    }
   ],
   "source": [
    "params_spectral"
   ]
  },
  {
   "cell_type": "markdown",
   "metadata": {},
   "source": [
    "# Evaluation\n",
    "\n",
    "## Parea 1\n",
    "\n",
    "We compare our results to several specially designed algorithm for multi-view data, using mvlearn. We use the Normalized Mutual Information (NMI) score for this evaluation.\n",
    "\n",
    "First some imports:"
   ]
  },
  {
   "cell_type": "code",
   "execution_count": 10,
   "metadata": {
    "tags": []
   },
   "outputs": [],
   "source": [
    "from sklearn.metrics import normalized_mutual_info_score as nmi_score\n",
    "from mvlearn.cluster import MultiviewCoRegSpectralClustering, MultiviewSphericalKMeans, MultiviewKMeans"
   ]
  },
  {
   "cell_type": "markdown",
   "metadata": {},
   "source": [
    "First we compute the NMI score for hierarchical clustering (using ther ground truths stored in `y` from above):"
   ]
  },
  {
   "cell_type": "code",
   "execution_count": 11,
   "metadata": {
    "tags": []
   },
   "outputs": [
    {
     "data": {
      "text/plain": [
       "0.23180186867415759"
      ]
     },
     "execution_count": 11,
     "metadata": {},
     "output_type": "execute_result"
    }
   ],
   "source": [
    "s_nmi_hierarchical = nmi_score(labels_hierarchical, y)\n",
    "s_nmi_hierarchical"
   ]
  },
  {
   "cell_type": "markdown",
   "metadata": {},
   "source": [
    "And now for spectral clustering:"
   ]
  },
  {
   "cell_type": "code",
   "execution_count": 12,
   "metadata": {
    "tags": []
   },
   "outputs": [
    {
     "data": {
      "text/plain": [
       "0.48348413489732744"
      ]
     },
     "execution_count": 12,
     "metadata": {},
     "output_type": "execute_result"
    }
   ],
   "source": [
    "s_nmi_spectral = nmi_score(labels_spectral, y)\n",
    "s_nmi_spectral"
   ]
  },
  {
   "cell_type": "markdown",
   "metadata": {},
   "source": [
    "## mvlearn\n",
    "\n",
    "Here we use mvlearn's specialised multi-view clustering algorithms on the same data and also compute the NMI scores. \n",
    "\n",
    "First, Multiview Coregularized Spectral Clustering:"
   ]
  },
  {
   "cell_type": "code",
   "execution_count": 13,
   "metadata": {
    "tags": []
   },
   "outputs": [
    {
     "data": {
      "text/plain": [
       "0.4591921489796446"
      ]
     },
     "execution_count": 13,
     "metadata": {},
     "output_type": "execute_result"
    }
   ],
   "source": [
    "mv_coreg_spectral = MultiviewCoRegSpectralClustering(n_clusters=2,\n",
    "                                               random_state=42,\n",
    "                                               n_init=100)\n",
    "\n",
    "labels_mv_coreg_spectral = mv_coreg_spectral.fit_predict(data)\n",
    "\n",
    "s_nmi_mv_coreg_spectral = nmi_score(labels_mv_coreg_spectral, y)\n",
    "s_nmi_mv_coreg_spectral"
   ]
  },
  {
   "cell_type": "markdown",
   "metadata": {},
   "source": [
    "Now with Multiview Spherical Means:"
   ]
  },
  {
   "cell_type": "code",
   "execution_count": 14,
   "metadata": {
    "tags": []
   },
   "outputs": [
    {
     "data": {
      "text/plain": [
       "0.6843628400956293"
      ]
     },
     "execution_count": 14,
     "metadata": {},
     "output_type": "execute_result"
    }
   ],
   "source": [
    "mv_spherical_kmeans = MultiviewSphericalKMeans(n_clusters=2, random_state=42)\n",
    "\n",
    "labels_spherical_kmeans = mv_spherical_kmeans.fit_predict(data)\n",
    "\n",
    "s_nmi_spherical_kmeans = nmi_score(labels_spherical_kmeans, y)\n",
    "s_nmi_spherical_kmeans"
   ]
  },
  {
   "cell_type": "markdown",
   "metadata": {},
   "source": [
    "And finally we use mvlearn's Multiview KMeans:"
   ]
  },
  {
   "cell_type": "code",
   "execution_count": 15,
   "metadata": {
    "tags": []
   },
   "outputs": [
    {
     "data": {
      "text/plain": [
       "0.5615896365639194"
      ]
     },
     "execution_count": 15,
     "metadata": {},
     "output_type": "execute_result"
    }
   ],
   "source": [
    "mv_kmeans = MultiviewKMeans(n_clusters=2, random_state=42)\n",
    "\n",
    "labels_kmeans = mv_kmeans.fit_predict(data)\n",
    "\n",
    "s_nmi_kmeans = nmi_score(labels_kmeans, y)\n",
    "s_nmi_kmeans"
   ]
  },
  {
   "cell_type": "markdown",
   "metadata": {},
   "source": [
    "# Parea 2"
   ]
  },
  {
   "cell_type": "code",
   "execution_count": 16,
   "metadata": {
    "tags": []
   },
   "outputs": [
    {
     "name": "stdout",
     "output_type": "stream",
     "text": [
      "Starting parea 2 genetic...\n",
      "['c_0_type', 'c_1_type', 'c_0_method', 'c_1_method', 'c_0_k', 'c_1_k', 'c_0_pre_type', 'c_1_pre_type', 'c_0_pre_method', 'c_1_pre_method', 'c_0_pre_k', 'c_1_pre_k', 'fusion_method']\n",
      "Silhouette score: 0.25206614153538387\n",
      "Silhouette score: 0.529158739073293\n",
      "Silhouette score: 0.30154001252838464\n",
      "Silhouette score: 0.4859592299809691\n",
      "Silhouette score: 0.529158739073293\n",
      "Silhouette score: 0.5406250000000001\n",
      "Silhouette score: 0.3668353174603175\n",
      "Silhouette score: 0.2138679567221625\n",
      "Silhouette score: 0.4594696969696971\n",
      "Silhouette score: 0.529158739073293\n",
      "gen\tnevals\tavg     \tstd     \tmin     \tmax     \n",
      "0  \t10    \t0.420784\t0.119896\t0.213868\t0.540625\n",
      "Silhouette score: 0.25206614153538387\n",
      "Silhouette score: 0.5406250000000001\n",
      "Silhouette score: 0.5406250000000001\n",
      "Silhouette score: 0.5406250000000001\n",
      "Silhouette score: 0.529158739073293\n",
      "Silhouette score: 0.25206614153538387\n",
      "Silhouette score: 0.5406250000000001\n",
      "Silhouette score: 0.4859592299809691\n",
      "Silhouette score: 0.46376238933547514\n",
      "Silhouette score: 0.529158739073293\n",
      "1  \t10    \t0.467467\t0.110531\t0.252066\t0.540625\n",
      "Silhouette score: 0.5406250000000001\n",
      "Silhouette score: 0.5406250000000001\n",
      "Silhouette score: 0.5406250000000001\n",
      "Silhouette score: 0.3668353174603175\n",
      "Silhouette score: 0.6647887731481481\n",
      "Silhouette score: 0.4859592299809691\n",
      "Silhouette score: 0.4859592299809691\n",
      "Silhouette score: 0.529158739073293\n",
      "Silhouette score: 0.6608046807310041\n",
      "2  \t9     \t0.535601\t0.0811901\t0.366835\t0.664789\n",
      "Silhouette score: 0.5406250000000001\n",
      "Silhouette score: 0.5406250000000001\n",
      "Silhouette score: 0.6608046807310041\n",
      "Silhouette score: 0.5406250000000001\n",
      "Silhouette score: 0.6647887731481481\n",
      "Silhouette score: 0.5406250000000001\n",
      "Silhouette score: 0.5406250000000001\n",
      "3  \t7     \t0.589494\t0.0598649\t0.540625\t0.664789\n",
      "\n",
      "Summary:\n",
      "gen\tnevals\tavg     \tstd      \tmin     \tmax     \n",
      "0  \t10    \t0.420784\t0.119896 \t0.213868\t0.540625\n",
      "1  \t10    \t0.467467\t0.110531 \t0.252066\t0.540625\n",
      "2  \t9     \t0.535601\t0.0811901\t0.366835\t0.664789\n",
      "3  \t7     \t0.589494\t0.0598649\t0.540625\t0.664789\n"
     ]
    }
   ],
   "source": [
    "params_parea2 = pyrea.parea_2_mv_genetic(data, k_min=2, k_max=5, n_population=10, n_generations=3)"
   ]
  },
  {
   "cell_type": "code",
   "execution_count": 17,
   "metadata": {},
   "outputs": [
    {
     "name": "stdout",
     "output_type": "stream",
     "text": [
      "Labels: [1 1 1 1 1 1 1 1 1 1 1 1 1 1 1 1 1 1 1 1 0 0 0 0 0 1 0 0 0 0 0 1 0 0 0 1 0\n",
      " 0 0 0]\n",
      "NMI score: 0.6843628400956293\n"
     ]
    }
   ],
   "source": [
    "params_parea2_converted = pyrea.convert_to_parameters(data, params_parea2)\n",
    "labels_parea_2 = pyrea.parea_2_mv(data, **params_parea2_converted)\n",
    "\n",
    "print(f\"Labels: {labels_parea_2}\")\n",
    "\n",
    "s_nmi_parea_2 = nmi_score(labels_parea_2, y)\n",
    "print(f\"NMI score: {s_nmi_parea_2}\")"
   ]
  },
  {
   "attachments": {},
   "cell_type": "markdown",
   "metadata": {},
   "source": [
    "# Conclusions\n",
    "\n",
    "Parea 2 scores 0.6843628400956293 with following configuration: \n",
    "\n",
    "```python\n",
    "params_parea2 = pyrea.parea_2_mv_genetic(data, k_min=2, k_max=5, n_population=10, n_generations=3)\n",
    "```\n",
    "\n",
    "which is on par with mvlearn's best result (using Multiview Spherical k Means)."
   ]
  },
  {
   "cell_type": "markdown",
   "metadata": {},
   "source": [
    "# References\n",
    "\n",
    "<span id=\"fn1\"><sup>1</sup> Nutrimouse data: https://aasldpubs.onlinelibrary.wiley.com/doi/10.1002/hep.21510</span>\n",
    "\n",
    "<span id=\"fn2\"><sup>2</sup> mvlearn Nutrimouse example: https://mvlearn.github.io/auto_examples/datasets/plot_nutrimouse.html</span>"
   ]
  }
 ],
 "metadata": {
  "kernelspec": {
   "display_name": "Python 3",
   "language": "python",
   "name": "python3"
  },
  "language_info": {
   "codemirror_mode": {
    "name": "ipython",
    "version": 3
   },
   "file_extension": ".py",
   "mimetype": "text/x-python",
   "name": "python",
   "nbconvert_exporter": "python",
   "pygments_lexer": "ipython3",
   "version": "3.9.15"
  }
 },
 "nbformat": 4,
 "nbformat_minor": 4
}
