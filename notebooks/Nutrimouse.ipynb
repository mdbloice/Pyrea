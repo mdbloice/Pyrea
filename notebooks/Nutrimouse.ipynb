{
 "cells": [
  {
   "cell_type": "markdown",
   "metadata": {},
   "source": [
    "# Pyrea on Nutrimouse Dataset using Hierarchical and Spectral Clustering\n",
    "\n",
    "In this notebok we demonstrate Pyrea's usage by performing hierarchical and spectral clustering on the Nutrimouse[<sup>1</sup>](#fn1) dataset.\n",
    "\n",
    "We will do this using the Parea<sub>1</sub> structure, a structure that is included as a helper function in the Pyrea software package.\n",
    "\n",
    "<span id=\"fn1\"><sup>1</sup> See https://aasldpubs.onlinelibrary.wiley.com/doi/10.1002/hep.21510</span>\n",
    "\n",
    "## Imports and Requirements\n",
    "\n",
    "This notebook requires Pyrea, mvlearn, and NumPy."
   ]
  },
  {
   "cell_type": "code",
   "execution_count": null,
   "metadata": {},
   "outputs": [],
   "source": [
    "import pyrea\n",
    "import mvlearn\n",
    "import numpy as np\n",
    "from mvlearn.datasets import load_nutrimouse"
   ]
  },
  {
   "cell_type": "markdown",
   "metadata": {},
   "source": [
    "Load the data:"
   ]
  },
  {
   "cell_type": "code",
   "execution_count": null,
   "metadata": {},
   "outputs": [],
   "source": [
    "# See https://mvlearn.github.io/auto_examples/datasets/plot_nutrimouse.html\n",
    "nutrimouse_dataset = load_nutrimouse()\n",
    "X_all = [nutrimouse_dataset['gene'], nutrimouse_dataset['lipid']]\n",
    "y_all = np.vstack((nutrimouse_dataset['genotype'], nutrimouse_dataset['diet'])).T"
   ]
  },
  {
   "cell_type": "code",
   "execution_count": null,
   "metadata": {},
   "outputs": [],
   "source": [
    "print(f'Number of views: {len(X_all)}. Shape of each view: {[np.shape(x) for x in X_all]}')"
   ]
  },
  {
   "cell_type": "markdown",
   "metadata": {},
   "source": [
    "As can be seen there are 2 views. We will use Parea_1 "
   ]
  },
  {
   "cell_type": "markdown",
   "metadata": {},
   "source": [
    "## Using Parea\n",
    "\n",
    "We now have two views of our data, we can preview it here: "
   ]
  },
  {
   "cell_type": "code",
   "execution_count": null,
   "metadata": {},
   "outputs": [],
   "source": [
    "from sklearn.cluster import SpectralClustering\n",
    "import numpy as np\n",
    "X = np.array([[1, 1], [2, 1], [1, 0],\n",
    "              [4, 7], [3, 5], [3, 6]])\n",
    "clustering = SpectralClustering(n_clusters=2, n_neighbors=5).fit(X)\n",
    "clustering.labels_"
   ]
  },
  {
   "cell_type": "code",
   "execution_count": null,
   "metadata": {},
   "outputs": [],
   "source": [
    "clustering"
   ]
  },
  {
   "cell_type": "markdown",
   "metadata": {},
   "source": [
    "# Random Data"
   ]
  },
  {
   "cell_type": "code",
   "execution_count": 9,
   "metadata": {
    "tags": []
   },
   "outputs": [
    {
     "name": "stdout",
     "output_type": "stream",
     "text": [
      "[2 2 5 5 1 2 1 2 2 2 1 3 1 4 2 2 4 2 2 1 2 2 1 1 2 2 2 1 2 1 1 2 2 2 2 2 2\n",
      " 0 2 2 4 1 2 2 2 1 2 1 2 2 2 2 1 2 2 1 2 2 2 0 0 2 1 2 2 0 2 1 2 5 2 2 1 4\n",
      " 2 2 2 4 2 0 2 2 4 1 1 1 2 2 2 2 2 1 1 2 2 1 2 2 2 2]\n"
     ]
    }
   ],
   "source": [
    "import pyrea\n",
    "import numpy as np\n",
    "\n",
    "# Create sample data:\n",
    "d1 = np.random.rand(100,10)\n",
    "d2 = np.random.rand(100,10)\n",
    "d3 = np.random.rand(100,10)\n",
    "\n",
    "data = [d1,d2, d3]\n",
    "\n",
    "labels = pyrea.parea_1_spectral(data, k_final=6)\n",
    "print(labels)"
   ]
  },
  {
   "cell_type": "code",
   "execution_count": null,
   "metadata": {},
   "outputs": [],
   "source": []
  }
 ],
 "metadata": {
  "kernelspec": {
   "display_name": "Python-3.9",
   "language": "python",
   "name": "python-3.9"
  },
  "language_info": {
   "codemirror_mode": {
    "name": "ipython",
    "version": 3
   },
   "file_extension": ".py",
   "mimetype": "text/x-python",
   "name": "python",
   "nbconvert_exporter": "python",
   "pygments_lexer": "ipython3",
   "version": "3.9.15"
  }
 },
 "nbformat": 4,
 "nbformat_minor": 4
}
