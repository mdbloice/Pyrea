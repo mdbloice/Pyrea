{
 "cells": [
  {
   "cell_type": "markdown",
   "metadata": {},
   "source": [
    "# Using Pyrea with Nutrimouse Data Utilising Hierarchical and Spectral Clustering\n",
    "\n",
    "In this notebok we demonstrate Pyrea's usage by performing hierarchical and spectral clustering on the Nutrimouse[<sup>1</sup>](#fn1) dataset.\n",
    "\n",
    "We will do this using the Parea_1 structure, a structure that is included as a helper function in the Pyrea software package.\n",
    "\n",
    "## Imports and Load Data\n",
    "\n",
    "This notebook requires Pyrea, mvlearn, and Numpy, let's import them here:"
   ]
  },
  {
   "cell_type": "code",
   "execution_count": 11,
   "metadata": {},
   "outputs": [],
   "source": [
    "import pyrea\n",
    "import mvlearn\n",
    "import numpy as np\n",
    "from mvlearn.datasets import load_nutrimouse"
   ]
  },
  {
   "cell_type": "markdown",
   "metadata": {},
   "source": [
    "Load the Nutrimouse data from mvlearn:[<sup>2</sup>](#fn2)"
   ]
  },
  {
   "cell_type": "code",
   "execution_count": 23,
   "metadata": {},
   "outputs": [
    {
     "name": "stdout",
     "output_type": "stream",
     "text": [
      "Number of views: 2. Shape of each view: [(40, 120), (40, 21)]\n"
     ]
    }
   ],
   "source": [
    "nutrimouse_dataset = load_nutrimouse()\n",
    "\n",
    "data = [nutrimouse_dataset['gene'], nutrimouse_dataset['lipid']]\n",
    "\n",
    "print(f'Number of views: {len(data)}. Shape of each view: {[np.shape(d) for d in data]}')"
   ]
  },
  {
   "cell_type": "markdown",
   "metadata": {},
   "source": [
    "As can be seen there are 2 views. View 0 has 120 features for each of the 40 mice, while view 2 has 21 features for each of the 40 mice. As this is a multi-view dataset, the 40 samples refer to the same 40 mice in both datasets.\n",
    "\n",
    "Note that we will not use any targets in this notebook, as we will perform unsupervised clustering on the dataset.\n",
    "\n",
    "We will use Parea_1 to perform hierarchical clustering and spectral clustering on this dataset, and use Pyrea's built-in genetic algorithm functionality to find the best hyperparameters to use for this data."
   ]
  },
  {
   "cell_type": "markdown",
   "metadata": {},
   "source": [
    "## Hierarchical Clustering\n",
    "\n",
    "Perform the genetic algorithm as follows, which will learn the best parameters to use for the clustering:"
   ]
  },
  {
   "cell_type": "code",
   "execution_count": 24,
   "metadata": {
    "tags": []
   },
   "outputs": [],
   "source": [
    "data = [X[0], X[1], X[0]]"
   ]
  },
  {
   "cell_type": "code",
   "execution_count": 25,
   "metadata": {
    "tags": []
   },
   "outputs": [
    {
     "name": "stdout",
     "output_type": "stream",
     "text": [
      "Silhouette score: 0.681149732620321\n",
      "Silhouette score: 0.5618233618233619\n",
      "Silhouette score: 0.49129050925925927\n",
      "Silhouette score: 0.3770131257631258\n",
      "Silhouette score: 0.6218732693060167\n",
      "Silhouette score: 1.0\n",
      "Silhouette score: 0.6470588235294118\n",
      "Silhouette score: 0.809090909090909\n",
      "Silhouette score: 0.6355475040257648\n",
      "Silhouette score: 0.5978260869565218\n",
      "Silhouette score: 0.4705806489262371\n",
      "Silhouette score: 0.6426739926739927\n",
      "Silhouette score: 0.4019749835418038\n",
      "Silhouette score: 0.49129050925925927\n",
      "Silhouette score: 0.4028520429435064\n",
      "Silhouette score: 0.49129050925925927\n",
      "Silhouette score: 0.2841696535244923\n",
      "Silhouette score: 0.46143627713749663\n",
      "Silhouette score: 0.5848613174322688\n",
      "Silhouette score: 0.6943181818181818\n",
      "Silhouette score: 0.809090909090909\n",
      "Silhouette score: 0.6608695652173913\n",
      "Silhouette score: 0.5253623188405797\n",
      "Silhouette score: 0.4705806489262371\n",
      "Silhouette score: 0.49129050925925927\n",
      "Silhouette score: 0.5585997442455243\n",
      "Silhouette score: 0.6426739926739927\n",
      "Silhouette score: 0.5998147233201581\n",
      "Silhouette score: 0.49129050925925927\n",
      "Silhouette score: 0.3770131257631258\n",
      "Silhouette score: 0.5618233618233619\n",
      "Silhouette score: 0.5948879215183563\n",
      "Silhouette score: 0.41971691902567476\n",
      "Silhouette score: 0.6189522265231779\n",
      "Silhouette score: 0.4437949346405229\n",
      "Silhouette score: 0.43566595441595435\n",
      "Silhouette score: 0.4463506522717049\n",
      "Silhouette score: 0.4210648148148149\n",
      "Silhouette score: 0.4619444444444444\n",
      "Silhouette score: 0.4437949346405229\n",
      "Silhouette score: 0.3133922844746274\n",
      "Silhouette score: 0.6426739926739927\n",
      "Silhouette score: 0.5469907407407407\n",
      "Silhouette score: 0.4028520429435064\n",
      "Silhouette score: 0.7681818181818183\n",
      "Silhouette score: 0.32455562870309407\n",
      "Silhouette score: 0.3198222252931654\n",
      "Silhouette score: 0.5166666666666667\n",
      "Silhouette score: 0.4463506522717049\n",
      "Silhouette score: 0.6189463229859571\n",
      "Silhouette score: 0.7459280303030305\n",
      "Silhouette score: 0.6189463229859571\n",
      "Silhouette score: 1.0\n",
      "Silhouette score: 0.5781176143883533\n",
      "Silhouette score: 0.4136574074074074\n",
      "Silhouette score: 0.6470588235294118\n",
      "Silhouette score: 0.657175925925926\n",
      "Silhouette score: 0.4430063948842444\n",
      "Silhouette score: 0.6943181818181818\n",
      "Silhouette score: 0.6943181818181818\n",
      "Silhouette score: 0.41700922035480853\n",
      "Silhouette score: 0.5975203804347826\n",
      "Silhouette score: 0.4568438003220612\n",
      "Silhouette score: 0.31696309494040176\n",
      "Silhouette score: 0.5585997442455243\n",
      "Silhouette score: 0.681149732620321\n",
      "Silhouette score: 0.537037037037037\n",
      "Silhouette score: 0.6598613174322688\n",
      "Silhouette score: 0.5585997442455243\n",
      "Silhouette score: 0.317204512077784\n",
      "Silhouette score: 0.5400550874878349\n",
      "Silhouette score: 0.6426739926739927\n",
      "Silhouette score: 1.0\n",
      "Silhouette score: 0.693952226523178\n",
      "Unexpected exception formatting exception. Falling back to standard exception\n"
     ]
    },
    {
     "name": "stderr",
     "output_type": "stream",
     "text": [
      "Traceback (most recent call last):\n",
      "  File \"/home/mblo/.pyenv/versions/3.9.15/lib/python3.9/site-packages/IPython/core/interactiveshell.py\", line 3505, in run_code\n",
      "    exec(code_obj, self.user_global_ns, self.user_ns)\n",
      "  File \"/tmp/ipykernel_2971/2447375687.py\", line 1, in <module>\n",
      "    params_hierarchical = pyrea.parea_1_genetic(data, k_min=2, k_max=5)\n",
      "  File \"/home/mblo/Dropbox/Pyrea/Pyrea/pyrea/core.py\", line 562, in parea_1_genetic\n",
      "    # Run the genetic algorithm\n",
      "  File \"/home/mblo/.pyenv/versions/3.9.15/lib/python3.9/site-packages/deap/algorithms.py\", line 151, in eaSimple\n",
      "    for ind, fit in zip(invalid_ind, fitnesses):\n",
      "  File \"/home/mblo/Dropbox/Pyrea/Pyrea/pyrea/core.py\", line 524, in evaluate\n",
      "  File \"/home/mblo/Dropbox/Pyrea/Pyrea/pyrea/core.py\", line 308, in parea_1\n",
      "    v_ensemble_1 = view(execute_ensemble(views1, f), c1_pre)\n",
      "  File \"/home/mblo/Dropbox/Pyrea/Pyrea/pyrea/core.py\", line 202, in execute_ensemble\n",
      "    return Ensemble(views, fuser).execute()\n",
      "  File \"/home/mblo/Dropbox/Pyrea/Pyrea/pyrea/structure.py\", line 586, in execute\n",
      "    fusion_matrix = self.fuser.execute(self.labels)\n",
      "  File \"/home/mblo/Dropbox/Pyrea/Pyrea/pyrea/structure.py\", line 344, in execute\n",
      "    res = np.matrix(res)\n",
      "KeyboardInterrupt\n",
      "\n",
      "During handling of the above exception, another exception occurred:\n",
      "\n",
      "Traceback (most recent call last):\n",
      "  File \"/home/mblo/.pyenv/versions/3.9.15/lib/python3.9/site-packages/IPython/core/interactiveshell.py\", line 2102, in showtraceback\n",
      "    stb = self.InteractiveTB.structured_traceback(\n",
      "  File \"/home/mblo/.pyenv/versions/3.9.15/lib/python3.9/site-packages/IPython/core/ultratb.py\", line 1310, in structured_traceback\n",
      "    return FormattedTB.structured_traceback(\n",
      "  File \"/home/mblo/.pyenv/versions/3.9.15/lib/python3.9/site-packages/IPython/core/ultratb.py\", line 1199, in structured_traceback\n",
      "    return VerboseTB.structured_traceback(\n",
      "  File \"/home/mblo/.pyenv/versions/3.9.15/lib/python3.9/site-packages/IPython/core/ultratb.py\", line 1052, in structured_traceback\n",
      "    formatted_exception = self.format_exception_as_a_whole(etype, evalue, etb, number_of_lines_of_context,\n",
      "  File \"/home/mblo/.pyenv/versions/3.9.15/lib/python3.9/site-packages/IPython/core/ultratb.py\", line 978, in format_exception_as_a_whole\n",
      "    frames.append(self.format_record(record))\n",
      "  File \"/home/mblo/.pyenv/versions/3.9.15/lib/python3.9/site-packages/IPython/core/ultratb.py\", line 878, in format_record\n",
      "    frame_info.lines, Colors, self.has_colors, lvals\n",
      "  File \"/home/mblo/.pyenv/versions/3.9.15/lib/python3.9/site-packages/IPython/core/ultratb.py\", line 712, in lines\n",
      "    return self._sd.lines\n",
      "  File \"/home/mblo/.pyenv/versions/3.9.15/lib/python3.9/site-packages/stack_data/utils.py\", line 144, in cached_property_wrapper\n",
      "    value = obj.__dict__[self.func.__name__] = self.func(obj)\n",
      "  File \"/home/mblo/.pyenv/versions/3.9.15/lib/python3.9/site-packages/stack_data/core.py\", line 734, in lines\n",
      "    pieces = self.included_pieces\n",
      "  File \"/home/mblo/.pyenv/versions/3.9.15/lib/python3.9/site-packages/stack_data/utils.py\", line 144, in cached_property_wrapper\n",
      "    value = obj.__dict__[self.func.__name__] = self.func(obj)\n",
      "  File \"/home/mblo/.pyenv/versions/3.9.15/lib/python3.9/site-packages/stack_data/core.py\", line 681, in included_pieces\n",
      "    pos = scope_pieces.index(self.executing_piece)\n",
      "  File \"/home/mblo/.pyenv/versions/3.9.15/lib/python3.9/site-packages/stack_data/utils.py\", line 144, in cached_property_wrapper\n",
      "    value = obj.__dict__[self.func.__name__] = self.func(obj)\n",
      "  File \"/home/mblo/.pyenv/versions/3.9.15/lib/python3.9/site-packages/stack_data/core.py\", line 660, in executing_piece\n",
      "    return only(\n",
      "  File \"/home/mblo/.pyenv/versions/3.9.15/lib/python3.9/site-packages/executing/executing.py\", line 190, in only\n",
      "    raise NotOneValueFound('Expected one value, found 0')\n",
      "executing.executing.NotOneValueFound: Expected one value, found 0\n"
     ]
    }
   ],
   "source": [
    "params_hierarchical = pyrea.parea_1_genetic(data, k_min=2, k_max=5)"
   ]
  },
  {
   "cell_type": "markdown",
   "metadata": {},
   "source": [
    "Once this is complete `params_hierarchical` contains the optimal parameters for this data, which we can then use to call the `parea_1` function with the optimal parameters that we have learned:"
   ]
  },
  {
   "cell_type": "code",
   "execution_count": 26,
   "metadata": {
    "tags": []
   },
   "outputs": [
    {
     "ename": "NameError",
     "evalue": "name 'params_hierarchical' is not defined",
     "output_type": "error",
     "traceback": [
      "\u001b[0;31m---------------------------------------------------------------------------\u001b[0m",
      "\u001b[0;31mNameError\u001b[0m                                 Traceback (most recent call last)",
      "Cell \u001b[0;32mIn[26], line 1\u001b[0m\n\u001b[0;32m----> 1\u001b[0m pyrea\u001b[38;5;241m.\u001b[39mparea_1(data, \u001b[38;5;241m*\u001b[39m\u001b[43mparams_hierarchical\u001b[49m)\n",
      "\u001b[0;31mNameError\u001b[0m: name 'params_hierarchical' is not defined"
     ]
    }
   ],
   "source": [
    "pyrea.parea_1(data, *params_hierarchical)"
   ]
  },
  {
   "cell_type": "markdown",
   "metadata": {},
   "source": [
    "## Spectral Clustering\n",
    "\n",
    "This is performed in almost the same way:"
   ]
  },
  {
   "cell_type": "code",
   "execution_count": 27,
   "metadata": {
    "tags": []
   },
   "outputs": [
    {
     "ename": "NameError",
     "evalue": "name 'linkages' is not defined",
     "output_type": "error",
     "traceback": [
      "\u001b[0;31m---------------------------------------------------------------------------\u001b[0m",
      "\u001b[0;31mNameError\u001b[0m                                 Traceback (most recent call last)",
      "Cell \u001b[0;32mIn[27], line 1\u001b[0m\n\u001b[0;32m----> 1\u001b[0m params_spectral \u001b[38;5;241m=\u001b[39m \u001b[43mpyrea\u001b[49m\u001b[38;5;241;43m.\u001b[39;49m\u001b[43mparea_1_genetic_spectral\u001b[49m\u001b[43m(\u001b[49m\u001b[43mdata\u001b[49m\u001b[43m,\u001b[49m\u001b[43m \u001b[49m\u001b[43mk_min\u001b[49m\u001b[38;5;241;43m=\u001b[39;49m\u001b[38;5;241;43m2\u001b[39;49m\u001b[43m,\u001b[49m\u001b[43m \u001b[49m\u001b[43mk_max\u001b[49m\u001b[38;5;241;43m=\u001b[39;49m\u001b[38;5;241;43m5\u001b[39;49m\u001b[43m)\u001b[49m\n",
      "File \u001b[0;32m~/Dropbox/Pyrea/Pyrea/pyrea/core.py:419\u001b[0m, in \u001b[0;36mparea_1_genetic_spectral\u001b[0;34m(data, k_min, k_max, k_final)\u001b[0m\n\u001b[1;32m    416\u001b[0m cluster_methods \u001b[38;5;241m=\u001b[39m [\u001b[38;5;124m'\u001b[39m\u001b[38;5;124mspectral\u001b[39m\u001b[38;5;124m'\u001b[39m]\n\u001b[1;32m    418\u001b[0m \u001b[38;5;66;03m# Set up parameters for the genetic algorithm                       Index\u001b[39;00m\n\u001b[0;32m--> 419\u001b[0m toolbox\u001b[38;5;241m.\u001b[39mregister(\u001b[38;5;124m\"\u001b[39m\u001b[38;5;124mc_1_type\u001b[39m\u001b[38;5;124m\"\u001b[39m, random\u001b[38;5;241m.\u001b[39mchoice, cluster_methods)        \u001b[38;5;66;03m# 0\u001b[39;00m\n\u001b[1;32m    420\u001b[0m toolbox\u001b[38;5;241m.\u001b[39mregister(\u001b[38;5;124m\"\u001b[39m\u001b[38;5;124mc_1_method\u001b[39m\u001b[38;5;124m\"\u001b[39m, random\u001b[38;5;241m.\u001b[39mchoice, linkages)             \u001b[38;5;66;03m# 1\u001b[39;00m\n\u001b[1;32m    421\u001b[0m toolbox\u001b[38;5;241m.\u001b[39mregister(\u001b[38;5;124m\"\u001b[39m\u001b[38;5;124mc_1_k\u001b[39m\u001b[38;5;124m\"\u001b[39m, random\u001b[38;5;241m.\u001b[39mrandint, k_min, k_max)             \u001b[38;5;66;03m# 2\u001b[39;00m\n",
      "\u001b[0;31mNameError\u001b[0m: name 'linkages' is not defined"
     ]
    }
   ],
   "source": [
    "params_spectral = pyrea.parea_1_genetic_spectral(data, k_min=2, k_max=5)"
   ]
  },
  {
   "cell_type": "markdown",
   "metadata": {},
   "source": [
    "Again this returns our optimal parameters, which we then use to perform the clustering using the `parea_1_spectral` function:"
   ]
  },
  {
   "cell_type": "code",
   "execution_count": 28,
   "metadata": {
    "tags": []
   },
   "outputs": [
    {
     "ename": "NameError",
     "evalue": "name 'params_spectral' is not defined",
     "output_type": "error",
     "traceback": [
      "\u001b[0;31m---------------------------------------------------------------------------\u001b[0m",
      "\u001b[0;31mNameError\u001b[0m                                 Traceback (most recent call last)",
      "Cell \u001b[0;32mIn[28], line 1\u001b[0m\n\u001b[0;32m----> 1\u001b[0m pyrea\u001b[38;5;241m.\u001b[39mparea_1_spectral(data, \u001b[38;5;241m*\u001b[39m\u001b[43mparams_spectral\u001b[49m)\n",
      "\u001b[0;31mNameError\u001b[0m: name 'params_spectral' is not defined"
     ]
    }
   ],
   "source": [
    "pyrea.parea_1_spectral(data, *params_spectral)"
   ]
  },
  {
   "cell_type": "markdown",
   "metadata": {},
   "source": [
    "# Conclusions\n",
    "\n",
    "TBC."
   ]
  },
  {
   "cell_type": "markdown",
   "metadata": {},
   "source": [
    "# Random Data Tests"
   ]
  },
  {
   "cell_type": "code",
   "execution_count": 9,
   "metadata": {
    "tags": []
   },
   "outputs": [
    {
     "name": "stdout",
     "output_type": "stream",
     "text": [
      "[2 2 5 5 1 2 1 2 2 2 1 3 1 4 2 2 4 2 2 1 2 2 1 1 2 2 2 1 2 1 1 2 2 2 2 2 2\n",
      " 0 2 2 4 1 2 2 2 1 2 1 2 2 2 2 1 2 2 1 2 2 2 0 0 2 1 2 2 0 2 1 2 5 2 2 1 4\n",
      " 2 2 2 4 2 0 2 2 4 1 1 1 2 2 2 2 2 1 1 2 2 1 2 2 2 2]\n"
     ]
    }
   ],
   "source": [
    "import pyrea\n",
    "import numpy as np\n",
    "\n",
    "# Create sample data:\n",
    "d1 = np.random.rand(100,10)\n",
    "d2 = np.random.rand(100,10)\n",
    "d3 = np.random.rand(100,10)\n",
    "\n",
    "data = [d1,d2, d3]\n",
    "\n",
    "labels = pyrea.parea_1_spectral(data, k_final=6)\n",
    "print(labels)"
   ]
  },
  {
   "cell_type": "markdown",
   "metadata": {},
   "source": [
    "Now with the genetic algorithm:"
   ]
  },
  {
   "cell_type": "code",
   "execution_count": null,
   "metadata": {},
   "outputs": [],
   "source": []
  },
  {
   "cell_type": "markdown",
   "metadata": {},
   "source": [
    "# References\n",
    "\n",
    "<span id=\"fn1\"><sup>1</sup> Nutrimouse data: https://aasldpubs.onlinelibrary.wiley.com/doi/10.1002/hep.21510</span>\n",
    "\n",
    "<span id=\"fn2\"><sup>2</sup> mvlearn Nutrimouse example: https://mvlearn.github.io/auto_examples/datasets/plot_nutrimouse.html</span>"
   ]
  }
 ],
 "metadata": {
  "kernelspec": {
   "display_name": "Python-3.9",
   "language": "python",
   "name": "python-3.9"
  },
  "language_info": {
   "codemirror_mode": {
    "name": "ipython",
    "version": 3
   },
   "file_extension": ".py",
   "mimetype": "text/x-python",
   "name": "python",
   "nbconvert_exporter": "python",
   "pygments_lexer": "ipython3",
   "version": "3.9.15"
  }
 },
 "nbformat": 4,
 "nbformat_minor": 4
}
