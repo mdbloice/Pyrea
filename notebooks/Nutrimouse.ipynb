{
 "cells": [
  {
   "cell_type": "markdown",
   "metadata": {},
   "source": [
    "# Using Pyrea with Nutrimouse Data Utilising Hierarchical and Spectral Clustering\n",
    "\n",
    "In this notebok we demonstrate Pyrea's usage by performing hierarchical and spectral clustering on the Nutrimouse[<sup>1</sup>](#fn1) dataset.\n",
    "\n",
    "We will do this using the Parea_1 structure, a structure that is included as a helper function in the Pyrea software package.\n",
    "\n",
    "## Imports\n",
    "This notebook requires Pyrea, mvlearn, and Numpy, let's import them here:"
   ]
  },
  {
   "cell_type": "code",
   "execution_count": 1,
   "metadata": {},
   "outputs": [],
   "source": [
    "import pyrea\n",
    "import numpy as np\n",
    "\n",
    "from mvlearn.datasets import load_nutrimouse"
   ]
  },
  {
   "cell_type": "markdown",
   "metadata": {},
   "source": [
    "## Load Data\n",
    "\n",
    "Load the Nutrimouse data from mvlearn:[<sup>2</sup>](#fn2)"
   ]
  },
  {
   "cell_type": "code",
   "execution_count": 2,
   "metadata": {},
   "outputs": [],
   "source": [
    "nutrimouse_dataset = load_nutrimouse()\n",
    "data = [nutrimouse_dataset['gene'], nutrimouse_dataset['lipid']]"
   ]
  },
  {
   "cell_type": "markdown",
   "metadata": {},
   "source": [
    "Preview the shape of the data:"
   ]
  },
  {
   "cell_type": "code",
   "execution_count": 3,
   "metadata": {
    "tags": []
   },
   "outputs": [
    {
     "name": "stdout",
     "output_type": "stream",
     "text": [
      "Number of views: 2\n",
      "Shape of view 1: 40 x 120\n",
      "Shape of view 2: 40 x 21\n"
     ]
    }
   ],
   "source": [
    "print(f'Number of views: {len(data)}')\n",
    "print(f'Shape of view 1: {np.shape(data[0])[0]} x {np.shape(data[0])[1]}')\n",
    "print(f'Shape of view 2: {np.shape(data[1])[0]} x {np.shape(data[1])[1]}')"
   ]
  },
  {
   "cell_type": "markdown",
   "metadata": {},
   "source": [
    "As can be seen there are 2 views. View 1 has 120 features for each of the 40 mice, while view 2 has 21 features for each of the 40 mice. As this is a multi-view dataset, the 40 samples refer to the same 40 mice in both datasets.\n",
    "\n",
    "We will use Parea_1 to perform hierarchical clustering and spectral clustering on this dataset, and use Pyrea's built-in genetic algorithm functionality to find the best hyperparameters to use for this data."
   ]
  },
  {
   "cell_type": "markdown",
   "metadata": {},
   "source": [
    "## Hierarchical Clustering\n",
    "\n",
    "Perform the genetic algorithm as follows, which will learn the best parameters to use for the clustering:"
   ]
  },
  {
   "cell_type": "code",
   "execution_count": 4,
   "metadata": {
    "tags": []
   },
   "outputs": [
    {
     "name": "stdout",
     "output_type": "stream",
     "text": [
      "Silhouette score: 0.44309006211180124\n",
      "Silhouette score: 0.433197188449848\n",
      "Silhouette score: 0.22683803763440863\n",
      "Silhouette score: 0.626736111111111\n",
      "Silhouette score: 0.5256649688737973\n",
      "Silhouette score: 0.21063133640552997\n",
      "Silhouette score: 0.4851190476190476\n",
      "Silhouette score: 0.7875\n",
      "Silhouette score: 0.49861111111111106\n",
      "Silhouette score: 0.6840909090909092\n",
      "gen\tnevals\tavg     \tstd     \tmin     \tmax   \n",
      "0  \t10    \t0.492148\t0.172895\t0.210631\t0.7875\n",
      "Silhouette score: 0.49861111111111106\n",
      "Silhouette score: 0.4851190476190476\n",
      "Silhouette score: 0.4848214285714286\n",
      "Silhouette score: 0.36851142558991395\n",
      "Silhouette score: 0.44309006211180124\n",
      "Silhouette score: 0.68127091423614\n",
      "Silhouette score: 0.7136363636363636\n",
      "Silhouette score: 0.68127091423614\n",
      "1  \t8     \t0.557703\t0.136442\t0.368511\t0.7875\n",
      "Silhouette score: 0.68127091423614\n",
      "Silhouette score: 0.7875\n",
      "Silhouette score: 0.7136363636363636\n",
      "Silhouette score: 0.7136363636363636\n",
      "Silhouette score: 0.7875\n",
      "Silhouette score: 0.7875\n",
      "Silhouette score: 0.68127091423614\n",
      "Silhouette score: 0.68127091423614\n",
      "2  \t8     \t0.694805\t0.0978047\t0.433197\t0.7875\n",
      "Silhouette score: 0.68127091423614\n",
      "Silhouette score: 0.68127091423614\n",
      "Silhouette score: 0.7875\n",
      "Silhouette score: 0.68127091423614\n",
      "Silhouette score: 0.7136363636363636\n",
      "Silhouette score: 0.7136363636363636\n",
      "Silhouette score: 0.530726969717653\n",
      "Silhouette score: 0.5909090909090908\n",
      "3  \t8     \t0.677513\t0.0671675\t0.530727\t0.7875\n",
      "\n",
      "Summary:\n",
      "gen\tnevals\tavg     \tstd      \tmin     \tmax   \n",
      "0  \t10    \t0.492148\t0.172895 \t0.210631\t0.7875\n",
      "1  \t8     \t0.557703\t0.136442 \t0.368511\t0.7875\n",
      "2  \t8     \t0.694805\t0.0978047\t0.433197\t0.7875\n",
      "3  \t8     \t0.677513\t0.0671675\t0.530727\t0.7875\n"
     ]
    }
   ],
   "source": [
    "params_hierarchical = pyrea.parea_1_genetic(data, k_min=2, k_max=5, n_generations=3, n_population=10)"
   ]
  },
  {
   "cell_type": "markdown",
   "metadata": {},
   "source": [
    "Once this is complete `params_hierarchical` contains the optimal parameters for this data, which we can then use to call the `parea_1` function with the optimal parameters that we have learned:"
   ]
  },
  {
   "cell_type": "code",
   "execution_count": 5,
   "metadata": {
    "tags": []
   },
   "outputs": [
    {
     "name": "stdout",
     "output_type": "stream",
     "text": [
      "[1 1 1 1 1 1 1 1 1 1 1 1 1 1 1 1 1 1 1 1 1 0 0 0 0 1 0 0 0 0 1 1 0 0 0 1 0\n",
      " 0 0 0]\n",
      "Mouse 1 assigned cluster 1\n",
      "Mouse 2 assigned cluster 1\n",
      "Mouse 3 assigned cluster 1\n",
      "Mouse 4 assigned cluster 1\n",
      "Mouse 5 assigned cluster 1\n",
      "Mouse 6 assigned cluster 1\n",
      "Mouse 7 assigned cluster 1\n",
      "Mouse 8 assigned cluster 1\n",
      "Mouse 9 assigned cluster 1\n",
      "Mouse 10 assigned cluster 1\n",
      "Mouse 11 assigned cluster 1\n",
      "Mouse 12 assigned cluster 1\n",
      "Mouse 13 assigned cluster 1\n",
      "Mouse 14 assigned cluster 1\n",
      "Mouse 15 assigned cluster 1\n",
      "Mouse 16 assigned cluster 1\n",
      "Mouse 17 assigned cluster 1\n",
      "Mouse 18 assigned cluster 1\n",
      "Mouse 19 assigned cluster 1\n",
      "Mouse 20 assigned cluster 1\n",
      "Mouse 21 assigned cluster 1\n",
      "Mouse 22 assigned cluster 0\n",
      "Mouse 23 assigned cluster 0\n",
      "Mouse 24 assigned cluster 0\n",
      "Mouse 25 assigned cluster 0\n",
      "Mouse 26 assigned cluster 1\n",
      "Mouse 27 assigned cluster 0\n",
      "Mouse 28 assigned cluster 0\n",
      "Mouse 29 assigned cluster 0\n",
      "Mouse 30 assigned cluster 0\n",
      "Mouse 31 assigned cluster 1\n",
      "Mouse 32 assigned cluster 1\n",
      "Mouse 33 assigned cluster 0\n",
      "Mouse 34 assigned cluster 0\n",
      "Mouse 35 assigned cluster 0\n",
      "Mouse 36 assigned cluster 1\n",
      "Mouse 37 assigned cluster 0\n",
      "Mouse 38 assigned cluster 0\n",
      "Mouse 39 assigned cluster 0\n",
      "Mouse 40 assigned cluster 0\n"
     ]
    }
   ],
   "source": [
    "labels_hierarchical = pyrea.parea_1(data, *params_hierarchical)\n",
    "\n",
    "print(labels_hierarchical)\n",
    "\n",
    "for l in range(len(labels_hierarchical)):\n",
    "    print(f\"Mouse {l+1} assigned cluster {labels_hierarchical[l]}\")"
   ]
  },
  {
   "attachments": {},
   "cell_type": "markdown",
   "metadata": {},
   "source": [
    "We can also print the parameters to see which were selected by the genetic algorithm:"
   ]
  },
  {
   "cell_type": "code",
   "execution_count": 6,
   "metadata": {},
   "outputs": [
    {
     "data": {
      "text/plain": [
       "['hierarchical',\n",
       " 'complete',\n",
       " 2,\n",
       " 'hierarchical',\n",
       " 'ward2',\n",
       " 3,\n",
       " 'hierarchical',\n",
       " 'single',\n",
       " 2,\n",
       " 'hierarchical',\n",
       " 'median',\n",
       " 2,\n",
       " 'disagreement']"
      ]
     },
     "execution_count": 6,
     "metadata": {},
     "output_type": "execute_result"
    }
   ],
   "source": [
    "params_hierarchical"
   ]
  },
  {
   "cell_type": "markdown",
   "metadata": {},
   "source": [
    "## Spectral Clustering\n",
    "\n",
    "This is performed in almost the same way:"
   ]
  },
  {
   "cell_type": "code",
   "execution_count": 7,
   "metadata": {
    "tags": []
   },
   "outputs": [
    {
     "name": "stdout",
     "output_type": "stream",
     "text": [
      "Silhouette score: -0.4083002854633289\n",
      "Silhouette score: -0.31631391178266177\n",
      "Silhouette score: -0.6138333333333333\n",
      "Silhouette score: -0.4883448337724653\n",
      "Silhouette score: -0.5068861753034547\n",
      "Silhouette score: -0.6175945592687879\n",
      "Silhouette score: -0.585704185520362\n",
      "Silhouette score: -0.612412677621656\n",
      "Silhouette score: -0.560596647687017\n",
      "Silhouette score: -0.47912822420634915\n",
      "gen\tnevals\tavg      \tstd      \tmin      \tmax      \n",
      "0  \t10    \t-0.518911\t0.0946743\t-0.617595\t-0.316314\n",
      "Silhouette score: -0.7149242424242424\n",
      "Silhouette score: -0.31710677699493484\n",
      "Silhouette score: -0.5552083333333334\n",
      "1  \t3     \t-0.464411\t0.129284 \t-0.714924\t-0.316314\n",
      "Silhouette score: -0.6590066391941392\n",
      "Silhouette score: -0.6168939393939394\n",
      "Silhouette score: -0.4339898989898991\n",
      "Silhouette score: -0.4325513538748833\n",
      "Silhouette score: -0.5651636934340422\n",
      "Silhouette score: -0.5500994478251071\n",
      "Silhouette score: -0.4704683207014863\n",
      "Silhouette score: -0.6385416666666666\n",
      "Silhouette score: -0.5205298786181138\n",
      "2  \t9     \t-0.529555\t0.0864707\t-0.659007\t-0.4083  \n",
      "Silhouette score: -0.35232649295149293\n",
      "Silhouette score: -0.3312545061118431\n",
      "Silhouette score: -0.4746577380952381\n",
      "Silhouette score: -0.46904761904761905\n",
      "Silhouette score: -0.335541651331125\n",
      "Silhouette score: -0.468915343915344\n",
      "Silhouette score: -0.5606677890011224\n",
      "3  \t7     \t-0.4243  \t0.0688814\t-0.560668\t-0.331255\n",
      "\n",
      "Summary:\n",
      "gen\tnevals\tavg      \tstd      \tmin      \tmax      \n",
      "0  \t10    \t-0.518911\t0.0946743\t-0.617595\t-0.316314\n",
      "1  \t3     \t-0.464411\t0.129284 \t-0.714924\t-0.316314\n",
      "2  \t9     \t-0.529555\t0.0864707\t-0.659007\t-0.4083  \n",
      "3  \t7     \t-0.4243  \t0.0688814\t-0.560668\t-0.331255\n"
     ]
    }
   ],
   "source": [
    "params_spectral = pyrea.parea_1_genetic_spectral(data, k_min=2, k_max=5, n_neighbors_min=5, n_neighbors_max=10, n_population=10, n_generations=3)"
   ]
  },
  {
   "cell_type": "markdown",
   "metadata": {},
   "source": [
    "Again this returns our optimal parameters, which we then use to perform the clustering using the `parea_1_spectral` function:"
   ]
  },
  {
   "cell_type": "code",
   "execution_count": 8,
   "metadata": {
    "tags": []
   },
   "outputs": [
    {
     "name": "stdout",
     "output_type": "stream",
     "text": [
      "[1 1 1 2 1 3 3 3 1 2 1 1 3 1 4 5 2 1 1 1 2 4 1 2 2 1 1 2 2 1 1 2 1 1 1 1 1\n",
      " 3 1 2]\n",
      "Mouse 1 assigned cluster 1\n",
      "Mouse 2 assigned cluster 1\n",
      "Mouse 3 assigned cluster 1\n",
      "Mouse 4 assigned cluster 2\n",
      "Mouse 5 assigned cluster 1\n",
      "Mouse 6 assigned cluster 3\n",
      "Mouse 7 assigned cluster 3\n",
      "Mouse 8 assigned cluster 3\n",
      "Mouse 9 assigned cluster 1\n",
      "Mouse 10 assigned cluster 2\n",
      "Mouse 11 assigned cluster 1\n",
      "Mouse 12 assigned cluster 1\n",
      "Mouse 13 assigned cluster 3\n",
      "Mouse 14 assigned cluster 1\n",
      "Mouse 15 assigned cluster 4\n",
      "Mouse 16 assigned cluster 5\n",
      "Mouse 17 assigned cluster 2\n",
      "Mouse 18 assigned cluster 1\n",
      "Mouse 19 assigned cluster 1\n",
      "Mouse 20 assigned cluster 1\n",
      "Mouse 21 assigned cluster 2\n",
      "Mouse 22 assigned cluster 4\n",
      "Mouse 23 assigned cluster 1\n",
      "Mouse 24 assigned cluster 2\n",
      "Mouse 25 assigned cluster 2\n",
      "Mouse 26 assigned cluster 1\n",
      "Mouse 27 assigned cluster 1\n",
      "Mouse 28 assigned cluster 2\n",
      "Mouse 29 assigned cluster 2\n",
      "Mouse 30 assigned cluster 1\n",
      "Mouse 31 assigned cluster 1\n",
      "Mouse 32 assigned cluster 2\n",
      "Mouse 33 assigned cluster 1\n",
      "Mouse 34 assigned cluster 1\n",
      "Mouse 35 assigned cluster 1\n",
      "Mouse 36 assigned cluster 1\n",
      "Mouse 37 assigned cluster 1\n",
      "Mouse 38 assigned cluster 3\n",
      "Mouse 39 assigned cluster 1\n",
      "Mouse 40 assigned cluster 2\n"
     ]
    }
   ],
   "source": [
    "labels_spectral = pyrea.parea_1_spectral(data, *params_spectral)\n",
    "\n",
    "print(labels_spectral)\n",
    "\n",
    "for l in range(len(labels_spectral)):\n",
    "    print(f\"Mouse {l+1} assigned cluster {labels_spectral[l]}\")"
   ]
  },
  {
   "cell_type": "markdown",
   "metadata": {},
   "source": [
    "We can also print the parameters to see which were selected by the genetic algorithm:"
   ]
  },
  {
   "cell_type": "code",
   "execution_count": 9,
   "metadata": {},
   "outputs": [
    {
     "data": {
      "text/plain": [
       "['spectral',\n",
       " 10,\n",
       " 4,\n",
       " 'spectral',\n",
       " 10,\n",
       " 5,\n",
       " 'spectral',\n",
       " 9,\n",
       " 2,\n",
       " 'spectral',\n",
       " 5,\n",
       " 3,\n",
       " 'disagreement']"
      ]
     },
     "execution_count": 9,
     "metadata": {},
     "output_type": "execute_result"
    }
   ],
   "source": [
    "params_spectral"
   ]
  },
  {
   "cell_type": "markdown",
   "metadata": {},
   "source": [
    "# Conclusions\n",
    "\n",
    "TBC."
   ]
  },
  {
   "cell_type": "markdown",
   "metadata": {},
   "source": [
    "# References\n",
    "\n",
    "<span id=\"fn1\"><sup>1</sup> Nutrimouse data: https://aasldpubs.onlinelibrary.wiley.com/doi/10.1002/hep.21510</span>\n",
    "\n",
    "<span id=\"fn2\"><sup>2</sup> mvlearn Nutrimouse example: https://mvlearn.github.io/auto_examples/datasets/plot_nutrimouse.html</span>"
   ]
  }
 ],
 "metadata": {
  "kernelspec": {
   "display_name": "Python 3",
   "language": "python",
   "name": "python3"
  },
  "language_info": {
   "codemirror_mode": {
    "name": "ipython",
    "version": 3
   },
   "file_extension": ".py",
   "mimetype": "text/x-python",
   "name": "python",
   "nbconvert_exporter": "python",
   "pygments_lexer": "ipython3",
   "version": "3.9.15"
  }
 },
 "nbformat": 4,
 "nbformat_minor": 4
}
